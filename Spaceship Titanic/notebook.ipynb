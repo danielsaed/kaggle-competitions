{
 "cells": [
  {
   "cell_type": "code",
   "execution_count": 1,
   "metadata": {},
   "outputs": [],
   "source": [
    "import pandas as pd\n",
    "import numpy as np\n",
    "import plotly.graph_objects as go"
   ]
  },
  {
   "cell_type": "code",
   "execution_count": 2,
   "metadata": {},
   "outputs": [],
   "source": [
    "def preprocess_data(df):\n",
    "\n",
    "    df['Cabin_deck'] = df['Cabin'].str.split('/').str[0]\n",
    "    df['Cabin_side'] = df['Cabin'].str.split('/').str[2]\n",
    "\n",
    "    df['PassengerId_update'] = df['PassengerId'].str.split('_').str[0]\n",
    "    df['Alone'] = False\n",
    "\n",
    "    df.loc[df['Cabin'].isna(), 'Cabin_update'] = 'empty'\n",
    "\n",
    "    df.loc[df['HomePlanet'].isna() & df['Cabin_deck'].isin(['A','B','C','T']), 'HomePlanet'] = 'Europa'\n",
    "    df.loc[df['HomePlanet'].isna(),'HomePlanet'] = 'Earth'\n",
    "    \n",
    "    df.loc[df['CryoSleep'].isna(),'CryoSleep'] = False\n",
    "    df.loc[df['Destination'].isna(),'Destination'] = 'Unknown'\n",
    "    df.loc[df['Age'].isna(),'Age'] = pd.to_numeric(df['Age'], errors='coerce').mean()\n",
    "    df.loc[df['VIP'].isna(),'VIP'] = False\n",
    "    df.loc[df['PassengerId_update'].duplicated(), 'Alone'] = True\n",
    "\n",
    "    df.loc[df['RoomService'].isna(), 'RoomService'] = 0\n",
    "    df.loc[df['FoodCourt'].isna(), 'FoodCourt'] = 0\n",
    "    df.loc[df['ShoppingMall'].isna(), 'ShoppingMall'] = 0\n",
    "    df.loc[df['Spa'].isna(), 'Spa'] = 0\n",
    "    df.loc[df['VRDeck'].isna(), 'VRDeck'] = 0\n",
    "\n",
    "    df['RoomService'] = (df['RoomService'] - 0) / (max_room - 0)\n",
    "    df['FoodCourt'] = (df['FoodCourt'] - 0) / (max_food - 0)\n",
    "    df['ShoppingMall'] = (df['ShoppingMall'] - 0) / (max_shop - 0)\n",
    "    df['Spa'] = (df['Spa'] - 0) / (max_spa - 0)\n",
    "    df['VRDeck'] = (df['VRDeck'] - 0) / (max_vr - 0)\n",
    "    df['Alone'] = df['Alone'].astype(int)\n",
    "    df['CryoSleep'] = df['CryoSleep'].astype(int)\n",
    "    df['VIP'] = df['VIP'].astype(int)\n",
    "\n",
    "    try:\n",
    "        df['Transported'] = df['Transported'].astype(int)\n",
    "    except:\n",
    "        print('This is test data not train data')\n",
    "\n",
    "\n",
    "    df = df.drop(columns=['PassengerId','Cabin','Name','PassengerId_update'])\n",
    "    \n",
    "\n",
    "    return df\n",
    "\n",
    "def get_xy(df,type_data):\n",
    "    from sklearn.preprocessing import OneHotEncoder\n",
    "\n",
    "    X = df.drop(columns=['Transported'], errors='ignore')\n",
    "    \n",
    "\n",
    "    lst_qualitative_columns = X.select_dtypes(include =['object']).columns\n",
    "    # Transform the qualitative columns\n",
    "    X_encoded = onehot.transform(X[lst_qualitative_columns])\n",
    "\n",
    "    df_qualitative = pd.DataFrame(X_encoded,columns = onehot.get_feature_names_out(lst_qualitative_columns))\n",
    "\n",
    "    X= pd.concat([X[lst_cuantitive_columns].reset_index(drop=True),df_qualitative.reset_index(drop=True)], axis=1)\n",
    "\n",
    "    if type_data == 'test':\n",
    "        return X\n",
    "    \n",
    "    y = df['Transported']\n",
    "    return X,y"
   ]
  },
  {
   "cell_type": "code",
   "execution_count": 107,
   "metadata": {},
   "outputs": [],
   "source": [
    "def preprocess_data(df):\n",
    "\n",
    "    df['Cabin_deck'] = df['Cabin'].str.split('/').str[0]\n",
    "    df['Cabin_side'] = df['Cabin'].str.split('/').str[2]\n",
    "\n",
    "    df['PassengerId_update'] = df['PassengerId'].str.split('_').str[0]\n",
    "    df['Alone'] = False\n",
    "\n",
    "    df1 = df.groupby('HomePlanet')\n",
    "\n",
    "    df.loc[df['Cabin'].isna(), 'Cabin_update'] = 'empty'\n",
    "\n",
    "    df['HomePlanet'] = df['HomePlanet'].fillna(\n",
    "    df.groupby('PassengerId_update')['HomePlanet'].transform(lambda x: x.dropna().iloc[0] if x.notna().any() else np.nan)\n",
    ")\n",
    "\n",
    "    df.loc[df['HomePlanet'].isna() & df['Cabin_deck'].isin(['A','B','C','T']), 'HomePlanet'] = 'Europa'\n",
    "    df.loc[df['HomePlanet'].isna(),'HomePlanet'] = 'Earth'\n",
    "\n",
    "    df.loc[df['Cabin_deck'].isna() & df['HomePlanet'] == 'Earth','Cabin_deck'] = 'G'\n",
    "    df.loc[df['Cabin_deck'].isna() & df['HomePlanet'] == 'Europa','Cabin_deck'] = 'B'\n",
    "    df.loc[df['Cabin_deck'].isna() & df['HomePlanet'] == 'Mars','Cabin_deck'] = 'F'\n",
    "    \n",
    "    df.loc[df['CryoSleep'].isna(),'CryoSleep'] = False\n",
    "    df.loc[df['Destination'].isna(),'Destination'] = 'Unknown'\n",
    "\n",
    "\n",
    "    cond = (\n",
    "    df['Age'].isna() &\n",
    "    (df['CryoSleep'] == False) &\n",
    "    (df['RoomService'] == 0) &\n",
    "    (df['FoodCourt'] == 0) &\n",
    "    (df['ShoppingMall'] == 0) &\n",
    "    (df['Spa'] == 0) &\n",
    "    (df['VRDeck'] == 0)\n",
    "    )\n",
    "\n",
    "    df.loc[cond, 'Age'] = 12\n",
    "    \n",
    "\n",
    "    df.loc[df['Age'].isna(),'Age'] = pd.to_numeric(df['Age'], errors='coerce').mean()\n",
    "\n",
    "\n",
    "\n",
    "    df.loc[df['VIP'].isna(),'VIP'] = False\n",
    "    df.loc[df['PassengerId_update'].duplicated(), 'Alone'] = True\n",
    "\n",
    "    df.loc[df['RoomService'].isna(), 'RoomService'] = 0\n",
    "    df.loc[df['FoodCourt'].isna(), 'FoodCourt'] = 0\n",
    "    df.loc[df['ShoppingMall'].isna(), 'ShoppingMall'] = 0\n",
    "    df.loc[df['Spa'].isna(), 'Spa'] = 0\n",
    "    df.loc[df['VRDeck'].isna(), 'VRDeck'] = 0\n",
    "\n",
    "    df['Expenditure'] = df['RoomService'] + df['FoodCourt'] +df['Spa'] + df['VRDeck']+df['ShoppingMall']\n",
    "\n",
    "    df['Expenditure'] = (df['Expenditure'] - 0) / (max_spend - 0)\n",
    "    df['RoomService'] = (df['RoomService'] - 0) / (max_room - 0)\n",
    "    df['FoodCourt'] = (df['FoodCourt'] - 0) / (max_food - 0)\n",
    "    df['ShoppingMall'] = (df['ShoppingMall'] - 0) / (max_shop - 0)\n",
    "    df['Spa'] = (df['Spa'] - 0) / (max_spa - 0)\n",
    "    df['VRDeck'] = (df['VRDeck'] - 0) / (max_vr - 0)\n",
    "    df['Alone'] = df['Alone'].astype(int)\n",
    "    df['CryoSleep'] = df['CryoSleep'].astype(int)\n",
    "    df['VIP'] = df['VIP'].astype(int)\n",
    "\n",
    "    \n",
    "    \n",
    "    cond_2 = (\n",
    "    df['CryoSleep'] == False &\n",
    "    (df['Age'] > 12) &\n",
    "    (df['RoomService'] == 0)&\n",
    "    (df['FoodCourt'] == 0) &\n",
    "    (df['ShoppingMall'] == 0) &\n",
    "    (df['Spa'] == 0) &\n",
    "    (df['VRDeck'] == 0)\n",
    "    )\n",
    "    df.loc[cond_2, 'Destination'] = 'TRAPPIST-1e'\n",
    "\n",
    "    try:\n",
    "        df['Transported'] = df['Transported'].astype(int)\n",
    "    except:\n",
    "        print('This is test data not train data')\n",
    "\n",
    "\n",
    "    df = df.drop(columns=['PassengerId','Cabin','Name','PassengerId_update','Cabin_update'])\n",
    "    \n",
    "\n",
    "    return df,df1\n",
    "\n",
    "def get_xy(df,type_data):\n",
    "    from sklearn.preprocessing import OneHotEncoder\n",
    "    X = df\n",
    "\n",
    "    if type_data == 'test':\n",
    "        X['Transported'] = False\n",
    "        \n",
    "    \n",
    "\n",
    "    lst_qualitative_columns = X.select_dtypes(include =['object']).columns\n",
    "    print(lst_qualitative_columns)\n",
    "    # Transform the qualitative columns\n",
    "    X_encoded = onehot.transform(X[lst_qualitative_columns])\n",
    "\n",
    "    df_qualitative = pd.DataFrame(X_encoded,columns = onehot.get_feature_names_out(lst_qualitative_columns))\n",
    "\n",
    "    X= pd.concat([X[lst_cuantitive_columns].reset_index(drop=True),df_qualitative.reset_index(drop=True)], axis=1)\n",
    "\n",
    "    X = X.drop(columns=['Transported'], errors='ignore')\n",
    "    if type_data == 'test':\n",
    "        return X\n",
    "    \n",
    "    y = df['Transported']\n",
    "    return X,y"
   ]
  },
  {
   "cell_type": "code",
   "execution_count": 115,
   "metadata": {},
   "outputs": [
    {
     "name": "stdout",
     "output_type": "stream",
     "text": [
      "Age                0.312024\n",
      "Expenditure        0.127239\n",
      "Spa                0.093643\n",
      "VRDeck             0.090468\n",
      "ShoppingMall       0.090342\n",
      "FoodCourt          0.090173\n",
      "RoomService        0.088854\n",
      "Alone              0.023052\n",
      "HomePlanet_Mars    0.009848\n",
      "Cabin_deck_E       0.009043\n",
      "dtype: float64\n"
     ]
    }
   ],
   "source": [
    "# Selecciona solo las filas donde Cabin_side NO es nulo para entrenar el modelo\n",
    "df_notna = train_df[train_df['Cabin_side'].notna()]\n",
    "\n",
    "# Elige las features que quieras usar (excluye Cabin_side y variables target)\n",
    "features = [col for col in df_notna.columns if col not in ['Cabin_side', 'Transported']]\n",
    "\n",
    "X = df_notna[features]\n",
    "y = df_notna['Cabin_side']\n",
    "\n",
    "from sklearn.ensemble import RandomForestClassifier\n",
    "\n",
    "# Si tienes variables categóricas, conviértelas a dummies/one-hot\n",
    "X_encoded = pd.get_dummies(X, drop_first=True)\n",
    "\n",
    "# Entrena el modelo\n",
    "rf = RandomForestClassifier(random_state=42)\n",
    "rf.fit(X_encoded, y)\n",
    "\n",
    "# Importancia de las features\n",
    "importances = pd.Series(rf.feature_importances_, index=X_encoded.columns)\n",
    "importances = importances.sort_values(ascending=False)\n",
    "\n",
    "print(importances.head(10))  # Las 10 más importantes"
   ]
  },
  {
   "cell_type": "code",
   "execution_count": 108,
   "metadata": {},
   "outputs": [],
   "source": [
    "# Load the data\n",
    "train_df = pd.read_csv('train.csv')\n",
    "test_df = pd.read_csv('test.csv')"
   ]
  },
  {
   "cell_type": "code",
   "execution_count": 109,
   "metadata": {},
   "outputs": [
    {
     "data": {
      "text/html": [
       "<div>\n",
       "<style scoped>\n",
       "    .dataframe tbody tr th:only-of-type {\n",
       "        vertical-align: middle;\n",
       "    }\n",
       "\n",
       "    .dataframe tbody tr th {\n",
       "        vertical-align: top;\n",
       "    }\n",
       "\n",
       "    .dataframe thead th {\n",
       "        text-align: right;\n",
       "    }\n",
       "</style>\n",
       "<table border=\"1\" class=\"dataframe\">\n",
       "  <thead>\n",
       "    <tr style=\"text-align: right;\">\n",
       "      <th></th>\n",
       "      <th>PassengerId</th>\n",
       "      <th>HomePlanet</th>\n",
       "      <th>CryoSleep</th>\n",
       "      <th>Cabin</th>\n",
       "      <th>Destination</th>\n",
       "      <th>Age</th>\n",
       "      <th>VIP</th>\n",
       "      <th>RoomService</th>\n",
       "      <th>FoodCourt</th>\n",
       "      <th>ShoppingMall</th>\n",
       "      <th>Spa</th>\n",
       "      <th>VRDeck</th>\n",
       "      <th>Name</th>\n",
       "      <th>Transported</th>\n",
       "    </tr>\n",
       "  </thead>\n",
       "  <tbody>\n",
       "    <tr>\n",
       "      <th>0</th>\n",
       "      <td>0001_01</td>\n",
       "      <td>Europa</td>\n",
       "      <td>False</td>\n",
       "      <td>B/0/P</td>\n",
       "      <td>TRAPPIST-1e</td>\n",
       "      <td>39.0</td>\n",
       "      <td>False</td>\n",
       "      <td>0.0</td>\n",
       "      <td>0.0</td>\n",
       "      <td>0.0</td>\n",
       "      <td>0.0</td>\n",
       "      <td>0.0</td>\n",
       "      <td>Maham Ofracculy</td>\n",
       "      <td>False</td>\n",
       "    </tr>\n",
       "    <tr>\n",
       "      <th>1</th>\n",
       "      <td>0002_01</td>\n",
       "      <td>Earth</td>\n",
       "      <td>False</td>\n",
       "      <td>F/0/S</td>\n",
       "      <td>TRAPPIST-1e</td>\n",
       "      <td>24.0</td>\n",
       "      <td>False</td>\n",
       "      <td>109.0</td>\n",
       "      <td>9.0</td>\n",
       "      <td>25.0</td>\n",
       "      <td>549.0</td>\n",
       "      <td>44.0</td>\n",
       "      <td>Juanna Vines</td>\n",
       "      <td>True</td>\n",
       "    </tr>\n",
       "    <tr>\n",
       "      <th>2</th>\n",
       "      <td>0003_01</td>\n",
       "      <td>Europa</td>\n",
       "      <td>False</td>\n",
       "      <td>A/0/S</td>\n",
       "      <td>TRAPPIST-1e</td>\n",
       "      <td>58.0</td>\n",
       "      <td>True</td>\n",
       "      <td>43.0</td>\n",
       "      <td>3576.0</td>\n",
       "      <td>0.0</td>\n",
       "      <td>6715.0</td>\n",
       "      <td>49.0</td>\n",
       "      <td>Altark Susent</td>\n",
       "      <td>False</td>\n",
       "    </tr>\n",
       "    <tr>\n",
       "      <th>3</th>\n",
       "      <td>0003_02</td>\n",
       "      <td>Europa</td>\n",
       "      <td>False</td>\n",
       "      <td>A/0/S</td>\n",
       "      <td>TRAPPIST-1e</td>\n",
       "      <td>33.0</td>\n",
       "      <td>False</td>\n",
       "      <td>0.0</td>\n",
       "      <td>1283.0</td>\n",
       "      <td>371.0</td>\n",
       "      <td>3329.0</td>\n",
       "      <td>193.0</td>\n",
       "      <td>Solam Susent</td>\n",
       "      <td>False</td>\n",
       "    </tr>\n",
       "    <tr>\n",
       "      <th>4</th>\n",
       "      <td>0004_01</td>\n",
       "      <td>Earth</td>\n",
       "      <td>False</td>\n",
       "      <td>F/1/S</td>\n",
       "      <td>TRAPPIST-1e</td>\n",
       "      <td>16.0</td>\n",
       "      <td>False</td>\n",
       "      <td>303.0</td>\n",
       "      <td>70.0</td>\n",
       "      <td>151.0</td>\n",
       "      <td>565.0</td>\n",
       "      <td>2.0</td>\n",
       "      <td>Willy Santantines</td>\n",
       "      <td>True</td>\n",
       "    </tr>\n",
       "    <tr>\n",
       "      <th>5</th>\n",
       "      <td>0005_01</td>\n",
       "      <td>Earth</td>\n",
       "      <td>False</td>\n",
       "      <td>F/0/P</td>\n",
       "      <td>PSO J318.5-22</td>\n",
       "      <td>44.0</td>\n",
       "      <td>False</td>\n",
       "      <td>0.0</td>\n",
       "      <td>483.0</td>\n",
       "      <td>0.0</td>\n",
       "      <td>291.0</td>\n",
       "      <td>0.0</td>\n",
       "      <td>Sandie Hinetthews</td>\n",
       "      <td>True</td>\n",
       "    </tr>\n",
       "    <tr>\n",
       "      <th>6</th>\n",
       "      <td>0006_01</td>\n",
       "      <td>Earth</td>\n",
       "      <td>False</td>\n",
       "      <td>F/2/S</td>\n",
       "      <td>TRAPPIST-1e</td>\n",
       "      <td>26.0</td>\n",
       "      <td>False</td>\n",
       "      <td>42.0</td>\n",
       "      <td>1539.0</td>\n",
       "      <td>3.0</td>\n",
       "      <td>0.0</td>\n",
       "      <td>0.0</td>\n",
       "      <td>Billex Jacostaffey</td>\n",
       "      <td>True</td>\n",
       "    </tr>\n",
       "    <tr>\n",
       "      <th>7</th>\n",
       "      <td>0006_02</td>\n",
       "      <td>Earth</td>\n",
       "      <td>True</td>\n",
       "      <td>G/0/S</td>\n",
       "      <td>TRAPPIST-1e</td>\n",
       "      <td>28.0</td>\n",
       "      <td>False</td>\n",
       "      <td>0.0</td>\n",
       "      <td>0.0</td>\n",
       "      <td>0.0</td>\n",
       "      <td>0.0</td>\n",
       "      <td>NaN</td>\n",
       "      <td>Candra Jacostaffey</td>\n",
       "      <td>True</td>\n",
       "    </tr>\n",
       "    <tr>\n",
       "      <th>8</th>\n",
       "      <td>0007_01</td>\n",
       "      <td>Earth</td>\n",
       "      <td>False</td>\n",
       "      <td>F/3/S</td>\n",
       "      <td>TRAPPIST-1e</td>\n",
       "      <td>35.0</td>\n",
       "      <td>False</td>\n",
       "      <td>0.0</td>\n",
       "      <td>785.0</td>\n",
       "      <td>17.0</td>\n",
       "      <td>216.0</td>\n",
       "      <td>0.0</td>\n",
       "      <td>Andona Beston</td>\n",
       "      <td>True</td>\n",
       "    </tr>\n",
       "    <tr>\n",
       "      <th>9</th>\n",
       "      <td>0008_01</td>\n",
       "      <td>Europa</td>\n",
       "      <td>True</td>\n",
       "      <td>B/1/P</td>\n",
       "      <td>55 Cancri e</td>\n",
       "      <td>14.0</td>\n",
       "      <td>False</td>\n",
       "      <td>0.0</td>\n",
       "      <td>0.0</td>\n",
       "      <td>0.0</td>\n",
       "      <td>0.0</td>\n",
       "      <td>0.0</td>\n",
       "      <td>Erraiam Flatic</td>\n",
       "      <td>True</td>\n",
       "    </tr>\n",
       "  </tbody>\n",
       "</table>\n",
       "</div>"
      ],
      "text/plain": [
       "  PassengerId HomePlanet CryoSleep  Cabin    Destination   Age    VIP  \\\n",
       "0     0001_01     Europa     False  B/0/P    TRAPPIST-1e  39.0  False   \n",
       "1     0002_01      Earth     False  F/0/S    TRAPPIST-1e  24.0  False   \n",
       "2     0003_01     Europa     False  A/0/S    TRAPPIST-1e  58.0   True   \n",
       "3     0003_02     Europa     False  A/0/S    TRAPPIST-1e  33.0  False   \n",
       "4     0004_01      Earth     False  F/1/S    TRAPPIST-1e  16.0  False   \n",
       "5     0005_01      Earth     False  F/0/P  PSO J318.5-22  44.0  False   \n",
       "6     0006_01      Earth     False  F/2/S    TRAPPIST-1e  26.0  False   \n",
       "7     0006_02      Earth      True  G/0/S    TRAPPIST-1e  28.0  False   \n",
       "8     0007_01      Earth     False  F/3/S    TRAPPIST-1e  35.0  False   \n",
       "9     0008_01     Europa      True  B/1/P    55 Cancri e  14.0  False   \n",
       "\n",
       "   RoomService  FoodCourt  ShoppingMall     Spa  VRDeck                Name  \\\n",
       "0          0.0        0.0           0.0     0.0     0.0     Maham Ofracculy   \n",
       "1        109.0        9.0          25.0   549.0    44.0        Juanna Vines   \n",
       "2         43.0     3576.0           0.0  6715.0    49.0       Altark Susent   \n",
       "3          0.0     1283.0         371.0  3329.0   193.0        Solam Susent   \n",
       "4        303.0       70.0         151.0   565.0     2.0   Willy Santantines   \n",
       "5          0.0      483.0           0.0   291.0     0.0   Sandie Hinetthews   \n",
       "6         42.0     1539.0           3.0     0.0     0.0  Billex Jacostaffey   \n",
       "7          0.0        0.0           0.0     0.0     NaN  Candra Jacostaffey   \n",
       "8          0.0      785.0          17.0   216.0     0.0       Andona Beston   \n",
       "9          0.0        0.0           0.0     0.0     0.0      Erraiam Flatic   \n",
       "\n",
       "   Transported  \n",
       "0        False  \n",
       "1         True  \n",
       "2        False  \n",
       "3        False  \n",
       "4         True  \n",
       "5         True  \n",
       "6         True  \n",
       "7         True  \n",
       "8         True  \n",
       "9         True  "
      ]
     },
     "execution_count": 109,
     "metadata": {},
     "output_type": "execute_result"
    }
   ],
   "source": [
    "train_df.head(10)"
   ]
  },
  {
   "cell_type": "code",
   "execution_count": 110,
   "metadata": {},
   "outputs": [
    {
     "data": {
      "text/plain": [
       "PassengerId       0\n",
       "HomePlanet      201\n",
       "CryoSleep       217\n",
       "Cabin           199\n",
       "Destination     182\n",
       "Age             179\n",
       "VIP             203\n",
       "RoomService     181\n",
       "FoodCourt       183\n",
       "ShoppingMall    208\n",
       "Spa             183\n",
       "VRDeck          188\n",
       "Name            200\n",
       "Transported       0\n",
       "dtype: int64"
      ]
     },
     "execution_count": 110,
     "metadata": {},
     "output_type": "execute_result"
    }
   ],
   "source": [
    "train_df.isna().sum()"
   ]
  },
  {
   "cell_type": "code",
   "execution_count": 111,
   "metadata": {},
   "outputs": [
    {
     "name": "stdout",
     "output_type": "stream",
     "text": [
      "Index(['HomePlanet', 'Destination', 'Cabin_deck', 'Cabin_side'], dtype='object')\n"
     ]
    }
   ],
   "source": [
    "from sklearn.preprocessing import OneHotEncoder\n",
    "\n",
    "max_room = train_df['RoomService'].max()\n",
    "max_food = train_df['FoodCourt'].max()\n",
    "max_shop = train_df['ShoppingMall'].max()\n",
    "max_spa = train_df['Spa'].max()\n",
    "max_vr = train_df['VRDeck'].max()\n",
    "max_spend = 35987\n",
    "\n",
    "train_df = pd.read_csv('train.csv')\n",
    "\n",
    "train_df,df1 = preprocess_data(train_df)\n",
    "\n",
    "lst_qualitative_columns = train_df.select_dtypes(include =['object']).columns\n",
    "lst_cuantitive_columns = train_df.select_dtypes(include=['number']).columns\n",
    "onehot = OneHotEncoder(sparse_output=False, handle_unknown='ignore')\n",
    "    # Fit the encoder on the training data\n",
    "onehot.fit(train_df[lst_qualitative_columns])\n",
    "\n",
    "X_train,y_train = get_xy(train_df,'train')"
   ]
  },
  {
   "cell_type": "code",
   "execution_count": 112,
   "metadata": {},
   "outputs": [
    {
     "data": {
      "text/plain": [
       "Cabin_side\n",
       "P    4206\n",
       "S    4288\n",
       "Name: HomePlanet, dtype: int64"
      ]
     },
     "execution_count": 112,
     "metadata": {},
     "output_type": "execute_result"
    }
   ],
   "source": [
    "train_df[train_df['Cabin_side'].isna()].groupby('HomePlanet')['HomePlanet'].count()\n",
    "train_df.groupby('Cabin_side')['HomePlanet'].count()"
   ]
  },
  {
   "cell_type": "markdown",
   "metadata": {},
   "source": []
  },
  {
   "cell_type": "code",
   "execution_count": 113,
   "metadata": {},
   "outputs": [
    {
     "name": "stdout",
     "output_type": "stream",
     "text": [
      "This is test data not train data\n",
      "Index(['HomePlanet', 'Destination', 'Cabin_deck', 'Cabin_side'], dtype='object')\n"
     ]
    }
   ],
   "source": [
    "test_df = pd.read_csv('test.csv')\n",
    "\n",
    "test_df,df1 = preprocess_data(test_df)\n",
    "\n",
    "X_test = get_xy(test_df,'test')"
   ]
  },
  {
   "cell_type": "code",
   "execution_count": 106,
   "metadata": {},
   "outputs": [],
   "source": [
    "X_train[X_train['Cabin_deck_nan'] == True].to_csv('test1.csv')"
   ]
  },
  {
   "cell_type": "code",
   "execution_count": null,
   "metadata": {},
   "outputs": [
    {
     "data": {
      "text/html": [
       "<div>\n",
       "<style scoped>\n",
       "    .dataframe tbody tr th:only-of-type {\n",
       "        vertical-align: middle;\n",
       "    }\n",
       "\n",
       "    .dataframe tbody tr th {\n",
       "        vertical-align: top;\n",
       "    }\n",
       "\n",
       "    .dataframe thead th {\n",
       "        text-align: right;\n",
       "    }\n",
       "</style>\n",
       "<table border=\"1\" class=\"dataframe\">\n",
       "  <thead>\n",
       "    <tr style=\"text-align: right;\">\n",
       "      <th></th>\n",
       "      <th>HomePlanet</th>\n",
       "      <th>CryoSleep</th>\n",
       "      <th>Destination</th>\n",
       "      <th>Age</th>\n",
       "      <th>VIP</th>\n",
       "      <th>RoomService</th>\n",
       "      <th>FoodCourt</th>\n",
       "      <th>ShoppingMall</th>\n",
       "      <th>Spa</th>\n",
       "      <th>VRDeck</th>\n",
       "      <th>Cabin_deck</th>\n",
       "      <th>Cabin_side</th>\n",
       "      <th>Alone</th>\n",
       "      <th>Expenditure</th>\n",
       "    </tr>\n",
       "  </thead>\n",
       "  <tbody>\n",
       "    <tr>\n",
       "      <th>0</th>\n",
       "      <td>Earth</td>\n",
       "      <td>1</td>\n",
       "      <td>TRAPPIST-1e</td>\n",
       "      <td>27.000000</td>\n",
       "      <td>0</td>\n",
       "      <td>0.0</td>\n",
       "      <td>0.0</td>\n",
       "      <td>0.0</td>\n",
       "      <td>0.0</td>\n",
       "      <td>0.0</td>\n",
       "      <td>G</td>\n",
       "      <td>S</td>\n",
       "      <td>0</td>\n",
       "      <td>0.000000</td>\n",
       "    </tr>\n",
       "    <tr>\n",
       "      <th>1</th>\n",
       "      <td>Earth</td>\n",
       "      <td>0</td>\n",
       "      <td>TRAPPIST-1e</td>\n",
       "      <td>19.000000</td>\n",
       "      <td>0</td>\n",
       "      <td>0.0</td>\n",
       "      <td>9.0</td>\n",
       "      <td>0.0</td>\n",
       "      <td>2823.0</td>\n",
       "      <td>0.0</td>\n",
       "      <td>F</td>\n",
       "      <td>S</td>\n",
       "      <td>0</td>\n",
       "      <td>0.078695</td>\n",
       "    </tr>\n",
       "    <tr>\n",
       "      <th>2</th>\n",
       "      <td>Europa</td>\n",
       "      <td>1</td>\n",
       "      <td>55 Cancri e</td>\n",
       "      <td>31.000000</td>\n",
       "      <td>0</td>\n",
       "      <td>0.0</td>\n",
       "      <td>0.0</td>\n",
       "      <td>0.0</td>\n",
       "      <td>0.0</td>\n",
       "      <td>0.0</td>\n",
       "      <td>C</td>\n",
       "      <td>S</td>\n",
       "      <td>0</td>\n",
       "      <td>0.000000</td>\n",
       "    </tr>\n",
       "    <tr>\n",
       "      <th>3</th>\n",
       "      <td>Europa</td>\n",
       "      <td>0</td>\n",
       "      <td>TRAPPIST-1e</td>\n",
       "      <td>38.000000</td>\n",
       "      <td>0</td>\n",
       "      <td>0.0</td>\n",
       "      <td>6652.0</td>\n",
       "      <td>0.0</td>\n",
       "      <td>181.0</td>\n",
       "      <td>585.0</td>\n",
       "      <td>C</td>\n",
       "      <td>S</td>\n",
       "      <td>0</td>\n",
       "      <td>0.206130</td>\n",
       "    </tr>\n",
       "    <tr>\n",
       "      <th>4</th>\n",
       "      <td>Earth</td>\n",
       "      <td>0</td>\n",
       "      <td>TRAPPIST-1e</td>\n",
       "      <td>20.000000</td>\n",
       "      <td>0</td>\n",
       "      <td>10.0</td>\n",
       "      <td>0.0</td>\n",
       "      <td>635.0</td>\n",
       "      <td>0.0</td>\n",
       "      <td>0.0</td>\n",
       "      <td>F</td>\n",
       "      <td>S</td>\n",
       "      <td>0</td>\n",
       "      <td>0.017923</td>\n",
       "    </tr>\n",
       "    <tr>\n",
       "      <th>...</th>\n",
       "      <td>...</td>\n",
       "      <td>...</td>\n",
       "      <td>...</td>\n",
       "      <td>...</td>\n",
       "      <td>...</td>\n",
       "      <td>...</td>\n",
       "      <td>...</td>\n",
       "      <td>...</td>\n",
       "      <td>...</td>\n",
       "      <td>...</td>\n",
       "      <td>...</td>\n",
       "      <td>...</td>\n",
       "      <td>...</td>\n",
       "      <td>...</td>\n",
       "    </tr>\n",
       "    <tr>\n",
       "      <th>4272</th>\n",
       "      <td>Earth</td>\n",
       "      <td>1</td>\n",
       "      <td>TRAPPIST-1e</td>\n",
       "      <td>34.000000</td>\n",
       "      <td>0</td>\n",
       "      <td>0.0</td>\n",
       "      <td>0.0</td>\n",
       "      <td>0.0</td>\n",
       "      <td>0.0</td>\n",
       "      <td>0.0</td>\n",
       "      <td>G</td>\n",
       "      <td>S</td>\n",
       "      <td>1</td>\n",
       "      <td>0.000000</td>\n",
       "    </tr>\n",
       "    <tr>\n",
       "      <th>4273</th>\n",
       "      <td>Earth</td>\n",
       "      <td>0</td>\n",
       "      <td>TRAPPIST-1e</td>\n",
       "      <td>42.000000</td>\n",
       "      <td>0</td>\n",
       "      <td>0.0</td>\n",
       "      <td>847.0</td>\n",
       "      <td>17.0</td>\n",
       "      <td>10.0</td>\n",
       "      <td>144.0</td>\n",
       "      <td>NaN</td>\n",
       "      <td>NaN</td>\n",
       "      <td>0</td>\n",
       "      <td>0.028288</td>\n",
       "    </tr>\n",
       "    <tr>\n",
       "      <th>4274</th>\n",
       "      <td>Mars</td>\n",
       "      <td>1</td>\n",
       "      <td>55 Cancri e</td>\n",
       "      <td>28.626371</td>\n",
       "      <td>0</td>\n",
       "      <td>0.0</td>\n",
       "      <td>0.0</td>\n",
       "      <td>0.0</td>\n",
       "      <td>0.0</td>\n",
       "      <td>0.0</td>\n",
       "      <td>D</td>\n",
       "      <td>P</td>\n",
       "      <td>0</td>\n",
       "      <td>0.000000</td>\n",
       "    </tr>\n",
       "    <tr>\n",
       "      <th>4275</th>\n",
       "      <td>Europa</td>\n",
       "      <td>0</td>\n",
       "      <td>TRAPPIST-1e</td>\n",
       "      <td>28.626371</td>\n",
       "      <td>0</td>\n",
       "      <td>0.0</td>\n",
       "      <td>2680.0</td>\n",
       "      <td>0.0</td>\n",
       "      <td>0.0</td>\n",
       "      <td>523.0</td>\n",
       "      <td>D</td>\n",
       "      <td>P</td>\n",
       "      <td>0</td>\n",
       "      <td>0.089004</td>\n",
       "    </tr>\n",
       "    <tr>\n",
       "      <th>4276</th>\n",
       "      <td>Earth</td>\n",
       "      <td>1</td>\n",
       "      <td>PSO J318.5-22</td>\n",
       "      <td>43.000000</td>\n",
       "      <td>0</td>\n",
       "      <td>0.0</td>\n",
       "      <td>0.0</td>\n",
       "      <td>0.0</td>\n",
       "      <td>0.0</td>\n",
       "      <td>0.0</td>\n",
       "      <td>G</td>\n",
       "      <td>S</td>\n",
       "      <td>0</td>\n",
       "      <td>0.000000</td>\n",
       "    </tr>\n",
       "  </tbody>\n",
       "</table>\n",
       "<p>4277 rows × 14 columns</p>\n",
       "</div>"
      ],
      "text/plain": [
       "     HomePlanet  CryoSleep    Destination        Age  VIP  RoomService  \\\n",
       "0         Earth          1    TRAPPIST-1e  27.000000    0          0.0   \n",
       "1         Earth          0    TRAPPIST-1e  19.000000    0          0.0   \n",
       "2        Europa          1    55 Cancri e  31.000000    0          0.0   \n",
       "3        Europa          0    TRAPPIST-1e  38.000000    0          0.0   \n",
       "4         Earth          0    TRAPPIST-1e  20.000000    0         10.0   \n",
       "...         ...        ...            ...        ...  ...          ...   \n",
       "4272      Earth          1    TRAPPIST-1e  34.000000    0          0.0   \n",
       "4273      Earth          0    TRAPPIST-1e  42.000000    0          0.0   \n",
       "4274       Mars          1    55 Cancri e  28.626371    0          0.0   \n",
       "4275     Europa          0    TRAPPIST-1e  28.626371    0          0.0   \n",
       "4276      Earth          1  PSO J318.5-22  43.000000    0          0.0   \n",
       "\n",
       "      FoodCourt  ShoppingMall     Spa  VRDeck Cabin_deck Cabin_side  Alone  \\\n",
       "0           0.0           0.0     0.0     0.0          G          S      0   \n",
       "1           9.0           0.0  2823.0     0.0          F          S      0   \n",
       "2           0.0           0.0     0.0     0.0          C          S      0   \n",
       "3        6652.0           0.0   181.0   585.0          C          S      0   \n",
       "4           0.0         635.0     0.0     0.0          F          S      0   \n",
       "...         ...           ...     ...     ...        ...        ...    ...   \n",
       "4272        0.0           0.0     0.0     0.0          G          S      1   \n",
       "4273      847.0          17.0    10.0   144.0        NaN        NaN      0   \n",
       "4274        0.0           0.0     0.0     0.0          D          P      0   \n",
       "4275     2680.0           0.0     0.0   523.0          D          P      0   \n",
       "4276        0.0           0.0     0.0     0.0          G          S      0   \n",
       "\n",
       "      Expenditure  \n",
       "0        0.000000  \n",
       "1        0.078695  \n",
       "2        0.000000  \n",
       "3        0.206130  \n",
       "4        0.017923  \n",
       "...           ...  \n",
       "4272     0.000000  \n",
       "4273     0.028288  \n",
       "4274     0.000000  \n",
       "4275     0.089004  \n",
       "4276     0.000000  \n",
       "\n",
       "[4277 rows x 14 columns]"
      ]
     },
     "execution_count": 164,
     "metadata": {},
     "output_type": "execute_result"
    }
   ],
   "source": [
    "test_df"
   ]
  },
  {
   "cell_type": "markdown",
   "metadata": {},
   "source": [
    "En un principio tenemos 6 columnas cuantitativas y 7 cualitativas"
   ]
  },
  {
   "cell_type": "code",
   "execution_count": 171,
   "metadata": {},
   "outputs": [
    {
     "name": "stdout",
     "output_type": "stream",
     "text": [
      "Variables cuantitativas: ['CryoSleep', 'Age', 'VIP', 'RoomService', 'FoodCourt', 'ShoppingMall', 'Spa', 'VRDeck', 'Transported', 'Alone', 'Expenditure']\n",
      "Variables cualitativas: ['HomePlanet', 'Destination', 'Cabin_deck', 'Cabin_side']\n"
     ]
    }
   ],
   "source": [
    "cuantitativas = train_df.select_dtypes(include=['number']).columns\n",
    "print(\"Variables cuantitativas:\", cuantitativas.tolist())\n",
    "\n",
    "cualitativas = train_df.select_dtypes(include=['object', 'category', 'string']).columns\n",
    "print(\"Variables cualitativas:\", cualitativas.tolist())\n"
   ]
  },
  {
   "cell_type": "code",
   "execution_count": 174,
   "metadata": {},
   "outputs": [
    {
     "name": "stdout",
     "output_type": "stream",
     "text": [
      "<class 'pandas.core.frame.DataFrame'>\n",
      "RangeIndex: 8693 entries, 0 to 8692\n",
      "Data columns (total 15 columns):\n",
      " #   Column        Non-Null Count  Dtype  \n",
      "---  ------        --------------  -----  \n",
      " 0   HomePlanet    8693 non-null   object \n",
      " 1   CryoSleep     8693 non-null   int32  \n",
      " 2   Destination   8693 non-null   object \n",
      " 3   Age           8693 non-null   float64\n",
      " 4   VIP           8693 non-null   int32  \n",
      " 5   RoomService   8693 non-null   float64\n",
      " 6   FoodCourt     8693 non-null   float64\n",
      " 7   ShoppingMall  8693 non-null   float64\n",
      " 8   Spa           8693 non-null   float64\n",
      " 9   VRDeck        8693 non-null   float64\n",
      " 10  Transported   8693 non-null   int32  \n",
      " 11  Cabin_deck    8494 non-null   object \n",
      " 12  Cabin_side    8494 non-null   object \n",
      " 13  Alone         8693 non-null   int32  \n",
      " 14  Expenditure   8693 non-null   float64\n",
      "dtypes: float64(7), int32(4), object(4)\n",
      "memory usage: 883.0+ KB\n"
     ]
    }
   ],
   "source": [
    "train_df.info()"
   ]
  },
  {
   "cell_type": "code",
   "execution_count": 21,
   "metadata": {},
   "outputs": [
    {
     "name": "stdout",
     "output_type": "stream",
     "text": [
      "Index(['CryoSleep', 'Age', 'VIP', 'RoomService', 'FoodCourt', 'ShoppingMall',\n",
      "       'Spa', 'VRDeck', 'Alone', 'Expenditure', 'HomePlanet_Earth',\n",
      "       'HomePlanet_Europa', 'HomePlanet_Mars', 'Destination_55 Cancri e',\n",
      "       'Destination_PSO J318.5-22', 'Destination_TRAPPIST-1e',\n",
      "       'Destination_Unknown', 'Cabin_deck_A', 'Cabin_deck_B', 'Cabin_deck_C',\n",
      "       'Cabin_deck_D', 'Cabin_deck_E', 'Cabin_deck_F', 'Cabin_deck_G',\n",
      "       'Cabin_deck_T', 'Cabin_deck_nan', 'Cabin_side_P', 'Cabin_side_S',\n",
      "       'Cabin_side_nan'],\n",
      "      dtype='object')\n",
      "[8.08673313e-02 1.64807323e-01 2.32472346e-03 7.40035054e-02\n",
      " 8.94764276e-02 7.48147761e-02 9.58193361e-02 8.63140013e-02\n",
      " 1.37611359e-02 1.60264300e-01 2.16844979e-02 1.52869767e-02\n",
      " 9.66099516e-03 9.19728599e-03 1.82939489e-03 1.47191740e-02\n",
      " 6.11180705e-04 2.13722131e-03 4.28198285e-03 5.85534930e-03\n",
      " 3.55117869e-03 1.52056750e-02 1.49459253e-02 1.44736389e-02\n",
      " 5.09549952e-05 1.57159117e-03 9.83482571e-03 1.11664565e-02\n",
      " 1.48283498e-03]\n",
      "['CryoSleep' 'Age' 'VIP' 'RoomService' 'FoodCourt' 'ShoppingMall' 'Spa'\n",
      " 'VRDeck' 'Alone' 'Expenditure' 'HomePlanet_Earth' 'HomePlanet_Europa'\n",
      " 'HomePlanet_Mars' 'Destination_55 Cancri e' 'Destination_PSO J318.5-22'\n",
      " 'Destination_TRAPPIST-1e' 'Destination_Unknown' 'Cabin_deck_A'\n",
      " 'Cabin_deck_B' 'Cabin_deck_C' 'Cabin_deck_D' 'Cabin_deck_E'\n",
      " 'Cabin_deck_F' 'Cabin_deck_G' 'Cabin_deck_T' 'Cabin_deck_nan'\n",
      " 'Cabin_side_P' 'Cabin_side_S' 'Cabin_side_nan']\n"
     ]
    }
   ],
   "source": [
    "from sklearn.preprocessing import OneHotEncoder\n",
    "\n",
    "\n",
    "X = X_train\n",
    "y = y_train\n",
    "lst_cuantitive_columns = X.select_dtypes(include=['number']).columns\n",
    "lst_qualitative_columns = X.select_dtypes(include =['object']).columns\n",
    "print(lst_cuantitive_columns)\n",
    "onehot = OneHotEncoder(sparse_output=False)\n",
    "\n",
    "# Fit and transform the qualitative columns\n",
    "X_encoded = onehot.fit_transform(X[lst_qualitative_columns])\n",
    "\n",
    "df_qualitative = pd.DataFrame(X_encoded,columns = onehot.get_feature_names_out(lst_qualitative_columns))\n",
    "\n",
    "df_final= pd.concat([X[lst_cuantitive_columns].reset_index(drop=True),df_qualitative.reset_index(drop=True)], axis=1)\n",
    "\n",
    "\n",
    "from sklearn.ensemble import RandomForestClassifier\n",
    "\n",
    "\n",
    "model = RandomForestClassifier()\n",
    "\n",
    "model.fit(df_final,y)\n",
    "\n",
    "print(model.feature_importances_)\n",
    "print(model.feature_names_in_)\n",
    "\n",
    "\n",
    "importancia_df = pd.DataFrame({\n",
    "    \"feature\": model.feature_names_in_,\n",
    "    \"importance\": model.feature_importances_\n",
    "}).sort_values(by=\"importance\", ascending=False)\n"
   ]
  },
  {
   "cell_type": "code",
   "execution_count": 22,
   "metadata": {},
   "outputs": [
    {
     "data": {
      "application/vnd.plotly.v1+json": {
       "config": {
        "plotlyServerURL": "https://plot.ly"
       },
       "data": [
        {
         "hovertemplate": "Importancia=%{x}<br>Feature=%{y}<extra></extra>",
         "legendgroup": "",
         "marker": {
          "color": "#636efa",
          "line": {
           "color": "white",
           "width": 1
          },
          "pattern": {
           "shape": ""
          }
         },
         "name": "",
         "orientation": "h",
         "showlegend": false,
         "textposition": "auto",
         "type": "bar",
         "x": {
          "bdata": "d4NpB2gYxT+FPVljioPEP8xo7bKdh7g/WxhrWu3ntj+74aSkrBi2PwJ4DK+4s7Q/5OWiqA8nsz9JKWvL5PGyP3VyZQR2NJY/vp3GRsdOjz+ZLi4mJySPP9g91yH4m44/cINWFxYljj/2GYbtWqSNPwajV2XMLow/9M8VbHDehj+ZzTH2RySEP43UPdIkyYM/SPE01AbWgj9pWA5cx/t3P6xL/QT8iXE/lsWTilwXbT81BFNnTAtjPwx9WvQTgmE/xxIPzgn5XT91jtAqu79ZP7AZbu91S1g/TfIWkvQGRD9xjcJNELcKPw==",
          "dtype": "f8"
         },
         "xaxis": "x",
         "y": [
          "Age",
          "Expenditure",
          "Spa",
          "FoodCourt",
          "VRDeck",
          "CryoSleep",
          "ShoppingMall",
          "RoomService",
          "HomePlanet_Earth",
          "HomePlanet_Europa",
          "Cabin_deck_E",
          "Cabin_deck_F",
          "Destination_TRAPPIST-1e",
          "Cabin_deck_G",
          "Alone",
          "Cabin_side_S",
          "Cabin_side_P",
          "HomePlanet_Mars",
          "Destination_55 Cancri e",
          "Cabin_deck_C",
          "Cabin_deck_B",
          "Cabin_deck_D",
          "VIP",
          "Cabin_deck_A",
          "Destination_PSO J318.5-22",
          "Cabin_deck_nan",
          "Cabin_side_nan",
          "Destination_Unknown",
          "Cabin_deck_T"
         ],
         "yaxis": "y"
        }
       ],
       "layout": {
        "barmode": "relative",
        "height": 1200,
        "legend": {
         "tracegroupgap": 0
        },
        "template": {
         "data": {
          "bar": [
           {
            "error_x": {
             "color": "#f2f5fa"
            },
            "error_y": {
             "color": "#f2f5fa"
            },
            "marker": {
             "line": {
              "color": "rgb(17,17,17)",
              "width": 0.5
             },
             "pattern": {
              "fillmode": "overlay",
              "size": 10,
              "solidity": 0.2
             }
            },
            "type": "bar"
           }
          ],
          "barpolar": [
           {
            "marker": {
             "line": {
              "color": "rgb(17,17,17)",
              "width": 0.5
             },
             "pattern": {
              "fillmode": "overlay",
              "size": 10,
              "solidity": 0.2
             }
            },
            "type": "barpolar"
           }
          ],
          "carpet": [
           {
            "aaxis": {
             "endlinecolor": "#A2B1C6",
             "gridcolor": "#506784",
             "linecolor": "#506784",
             "minorgridcolor": "#506784",
             "startlinecolor": "#A2B1C6"
            },
            "baxis": {
             "endlinecolor": "#A2B1C6",
             "gridcolor": "#506784",
             "linecolor": "#506784",
             "minorgridcolor": "#506784",
             "startlinecolor": "#A2B1C6"
            },
            "type": "carpet"
           }
          ],
          "choropleth": [
           {
            "colorbar": {
             "outlinewidth": 0,
             "ticks": ""
            },
            "type": "choropleth"
           }
          ],
          "contour": [
           {
            "colorbar": {
             "outlinewidth": 0,
             "ticks": ""
            },
            "colorscale": [
             [
              0,
              "#0d0887"
             ],
             [
              0.1111111111111111,
              "#46039f"
             ],
             [
              0.2222222222222222,
              "#7201a8"
             ],
             [
              0.3333333333333333,
              "#9c179e"
             ],
             [
              0.4444444444444444,
              "#bd3786"
             ],
             [
              0.5555555555555556,
              "#d8576b"
             ],
             [
              0.6666666666666666,
              "#ed7953"
             ],
             [
              0.7777777777777778,
              "#fb9f3a"
             ],
             [
              0.8888888888888888,
              "#fdca26"
             ],
             [
              1,
              "#f0f921"
             ]
            ],
            "type": "contour"
           }
          ],
          "contourcarpet": [
           {
            "colorbar": {
             "outlinewidth": 0,
             "ticks": ""
            },
            "type": "contourcarpet"
           }
          ],
          "heatmap": [
           {
            "colorbar": {
             "outlinewidth": 0,
             "ticks": ""
            },
            "colorscale": [
             [
              0,
              "#0d0887"
             ],
             [
              0.1111111111111111,
              "#46039f"
             ],
             [
              0.2222222222222222,
              "#7201a8"
             ],
             [
              0.3333333333333333,
              "#9c179e"
             ],
             [
              0.4444444444444444,
              "#bd3786"
             ],
             [
              0.5555555555555556,
              "#d8576b"
             ],
             [
              0.6666666666666666,
              "#ed7953"
             ],
             [
              0.7777777777777778,
              "#fb9f3a"
             ],
             [
              0.8888888888888888,
              "#fdca26"
             ],
             [
              1,
              "#f0f921"
             ]
            ],
            "type": "heatmap"
           }
          ],
          "histogram": [
           {
            "marker": {
             "pattern": {
              "fillmode": "overlay",
              "size": 10,
              "solidity": 0.2
             }
            },
            "type": "histogram"
           }
          ],
          "histogram2d": [
           {
            "colorbar": {
             "outlinewidth": 0,
             "ticks": ""
            },
            "colorscale": [
             [
              0,
              "#0d0887"
             ],
             [
              0.1111111111111111,
              "#46039f"
             ],
             [
              0.2222222222222222,
              "#7201a8"
             ],
             [
              0.3333333333333333,
              "#9c179e"
             ],
             [
              0.4444444444444444,
              "#bd3786"
             ],
             [
              0.5555555555555556,
              "#d8576b"
             ],
             [
              0.6666666666666666,
              "#ed7953"
             ],
             [
              0.7777777777777778,
              "#fb9f3a"
             ],
             [
              0.8888888888888888,
              "#fdca26"
             ],
             [
              1,
              "#f0f921"
             ]
            ],
            "type": "histogram2d"
           }
          ],
          "histogram2dcontour": [
           {
            "colorbar": {
             "outlinewidth": 0,
             "ticks": ""
            },
            "colorscale": [
             [
              0,
              "#0d0887"
             ],
             [
              0.1111111111111111,
              "#46039f"
             ],
             [
              0.2222222222222222,
              "#7201a8"
             ],
             [
              0.3333333333333333,
              "#9c179e"
             ],
             [
              0.4444444444444444,
              "#bd3786"
             ],
             [
              0.5555555555555556,
              "#d8576b"
             ],
             [
              0.6666666666666666,
              "#ed7953"
             ],
             [
              0.7777777777777778,
              "#fb9f3a"
             ],
             [
              0.8888888888888888,
              "#fdca26"
             ],
             [
              1,
              "#f0f921"
             ]
            ],
            "type": "histogram2dcontour"
           }
          ],
          "mesh3d": [
           {
            "colorbar": {
             "outlinewidth": 0,
             "ticks": ""
            },
            "type": "mesh3d"
           }
          ],
          "parcoords": [
           {
            "line": {
             "colorbar": {
              "outlinewidth": 0,
              "ticks": ""
             }
            },
            "type": "parcoords"
           }
          ],
          "pie": [
           {
            "automargin": true,
            "type": "pie"
           }
          ],
          "scatter": [
           {
            "marker": {
             "line": {
              "color": "#283442"
             }
            },
            "type": "scatter"
           }
          ],
          "scatter3d": [
           {
            "line": {
             "colorbar": {
              "outlinewidth": 0,
              "ticks": ""
             }
            },
            "marker": {
             "colorbar": {
              "outlinewidth": 0,
              "ticks": ""
             }
            },
            "type": "scatter3d"
           }
          ],
          "scattercarpet": [
           {
            "marker": {
             "colorbar": {
              "outlinewidth": 0,
              "ticks": ""
             }
            },
            "type": "scattercarpet"
           }
          ],
          "scattergeo": [
           {
            "marker": {
             "colorbar": {
              "outlinewidth": 0,
              "ticks": ""
             }
            },
            "type": "scattergeo"
           }
          ],
          "scattergl": [
           {
            "marker": {
             "line": {
              "color": "#283442"
             }
            },
            "type": "scattergl"
           }
          ],
          "scattermap": [
           {
            "marker": {
             "colorbar": {
              "outlinewidth": 0,
              "ticks": ""
             }
            },
            "type": "scattermap"
           }
          ],
          "scattermapbox": [
           {
            "marker": {
             "colorbar": {
              "outlinewidth": 0,
              "ticks": ""
             }
            },
            "type": "scattermapbox"
           }
          ],
          "scatterpolar": [
           {
            "marker": {
             "colorbar": {
              "outlinewidth": 0,
              "ticks": ""
             }
            },
            "type": "scatterpolar"
           }
          ],
          "scatterpolargl": [
           {
            "marker": {
             "colorbar": {
              "outlinewidth": 0,
              "ticks": ""
             }
            },
            "type": "scatterpolargl"
           }
          ],
          "scatterternary": [
           {
            "marker": {
             "colorbar": {
              "outlinewidth": 0,
              "ticks": ""
             }
            },
            "type": "scatterternary"
           }
          ],
          "surface": [
           {
            "colorbar": {
             "outlinewidth": 0,
             "ticks": ""
            },
            "colorscale": [
             [
              0,
              "#0d0887"
             ],
             [
              0.1111111111111111,
              "#46039f"
             ],
             [
              0.2222222222222222,
              "#7201a8"
             ],
             [
              0.3333333333333333,
              "#9c179e"
             ],
             [
              0.4444444444444444,
              "#bd3786"
             ],
             [
              0.5555555555555556,
              "#d8576b"
             ],
             [
              0.6666666666666666,
              "#ed7953"
             ],
             [
              0.7777777777777778,
              "#fb9f3a"
             ],
             [
              0.8888888888888888,
              "#fdca26"
             ],
             [
              1,
              "#f0f921"
             ]
            ],
            "type": "surface"
           }
          ],
          "table": [
           {
            "cells": {
             "fill": {
              "color": "#506784"
             },
             "line": {
              "color": "rgb(17,17,17)"
             }
            },
            "header": {
             "fill": {
              "color": "#2a3f5f"
             },
             "line": {
              "color": "rgb(17,17,17)"
             }
            },
            "type": "table"
           }
          ]
         },
         "layout": {
          "annotationdefaults": {
           "arrowcolor": "#f2f5fa",
           "arrowhead": 0,
           "arrowwidth": 1
          },
          "autotypenumbers": "strict",
          "coloraxis": {
           "colorbar": {
            "outlinewidth": 0,
            "ticks": ""
           }
          },
          "colorscale": {
           "diverging": [
            [
             0,
             "#8e0152"
            ],
            [
             0.1,
             "#c51b7d"
            ],
            [
             0.2,
             "#de77ae"
            ],
            [
             0.3,
             "#f1b6da"
            ],
            [
             0.4,
             "#fde0ef"
            ],
            [
             0.5,
             "#f7f7f7"
            ],
            [
             0.6,
             "#e6f5d0"
            ],
            [
             0.7,
             "#b8e186"
            ],
            [
             0.8,
             "#7fbc41"
            ],
            [
             0.9,
             "#4d9221"
            ],
            [
             1,
             "#276419"
            ]
           ],
           "sequential": [
            [
             0,
             "#0d0887"
            ],
            [
             0.1111111111111111,
             "#46039f"
            ],
            [
             0.2222222222222222,
             "#7201a8"
            ],
            [
             0.3333333333333333,
             "#9c179e"
            ],
            [
             0.4444444444444444,
             "#bd3786"
            ],
            [
             0.5555555555555556,
             "#d8576b"
            ],
            [
             0.6666666666666666,
             "#ed7953"
            ],
            [
             0.7777777777777778,
             "#fb9f3a"
            ],
            [
             0.8888888888888888,
             "#fdca26"
            ],
            [
             1,
             "#f0f921"
            ]
           ],
           "sequentialminus": [
            [
             0,
             "#0d0887"
            ],
            [
             0.1111111111111111,
             "#46039f"
            ],
            [
             0.2222222222222222,
             "#7201a8"
            ],
            [
             0.3333333333333333,
             "#9c179e"
            ],
            [
             0.4444444444444444,
             "#bd3786"
            ],
            [
             0.5555555555555556,
             "#d8576b"
            ],
            [
             0.6666666666666666,
             "#ed7953"
            ],
            [
             0.7777777777777778,
             "#fb9f3a"
            ],
            [
             0.8888888888888888,
             "#fdca26"
            ],
            [
             1,
             "#f0f921"
            ]
           ]
          },
          "colorway": [
           "#636efa",
           "#EF553B",
           "#00cc96",
           "#ab63fa",
           "#FFA15A",
           "#19d3f3",
           "#FF6692",
           "#B6E880",
           "#FF97FF",
           "#FECB52"
          ],
          "font": {
           "color": "#f2f5fa"
          },
          "geo": {
           "bgcolor": "rgb(17,17,17)",
           "lakecolor": "rgb(17,17,17)",
           "landcolor": "rgb(17,17,17)",
           "showlakes": true,
           "showland": true,
           "subunitcolor": "#506784"
          },
          "hoverlabel": {
           "align": "left"
          },
          "hovermode": "closest",
          "mapbox": {
           "style": "dark"
          },
          "paper_bgcolor": "rgb(17,17,17)",
          "plot_bgcolor": "rgb(17,17,17)",
          "polar": {
           "angularaxis": {
            "gridcolor": "#506784",
            "linecolor": "#506784",
            "ticks": ""
           },
           "bgcolor": "rgb(17,17,17)",
           "radialaxis": {
            "gridcolor": "#506784",
            "linecolor": "#506784",
            "ticks": ""
           }
          },
          "scene": {
           "xaxis": {
            "backgroundcolor": "rgb(17,17,17)",
            "gridcolor": "#506784",
            "gridwidth": 2,
            "linecolor": "#506784",
            "showbackground": true,
            "ticks": "",
            "zerolinecolor": "#C8D4E3"
           },
           "yaxis": {
            "backgroundcolor": "rgb(17,17,17)",
            "gridcolor": "#506784",
            "gridwidth": 2,
            "linecolor": "#506784",
            "showbackground": true,
            "ticks": "",
            "zerolinecolor": "#C8D4E3"
           },
           "zaxis": {
            "backgroundcolor": "rgb(17,17,17)",
            "gridcolor": "#506784",
            "gridwidth": 2,
            "linecolor": "#506784",
            "showbackground": true,
            "ticks": "",
            "zerolinecolor": "#C8D4E3"
           }
          },
          "shapedefaults": {
           "line": {
            "color": "#f2f5fa"
           }
          },
          "sliderdefaults": {
           "bgcolor": "#C8D4E3",
           "bordercolor": "rgb(17,17,17)",
           "borderwidth": 1,
           "tickwidth": 0
          },
          "ternary": {
           "aaxis": {
            "gridcolor": "#506784",
            "linecolor": "#506784",
            "ticks": ""
           },
           "baxis": {
            "gridcolor": "#506784",
            "linecolor": "#506784",
            "ticks": ""
           },
           "bgcolor": "rgb(17,17,17)",
           "caxis": {
            "gridcolor": "#506784",
            "linecolor": "#506784",
            "ticks": ""
           }
          },
          "title": {
           "x": 0.05
          },
          "updatemenudefaults": {
           "bgcolor": "#506784",
           "borderwidth": 0
          },
          "xaxis": {
           "automargin": true,
           "gridcolor": "#283442",
           "linecolor": "#506784",
           "ticks": "",
           "title": {
            "standoff": 15
           },
           "zerolinecolor": "#283442",
           "zerolinewidth": 2
          },
          "yaxis": {
           "automargin": true,
           "gridcolor": "#283442",
           "linecolor": "#506784",
           "ticks": "",
           "title": {
            "standoff": 15
           },
           "zerolinecolor": "#283442",
           "zerolinewidth": 2
          }
         }
        },
        "title": {
         "text": "Top 20 Features más importantes (Random Forest)"
        },
        "width": 800,
        "xaxis": {
         "anchor": "y",
         "domain": [
          0,
          1
         ],
         "title": {
          "text": "Importancia"
         }
        },
        "yaxis": {
         "anchor": "x",
         "autorange": "reversed",
         "domain": [
          0,
          1
         ],
         "title": {
          "text": "Feature"
         }
        }
       }
      }
     },
     "metadata": {},
     "output_type": "display_data"
    }
   ],
   "source": [
    "import plotly.express as px\n",
    "\n",
    "# Tomar las 20 features más importantes\n",
    "top_features = importancia_df.sort_values(by=\"importance\", ascending=False)\n",
    "\n",
    "# Gráfico interactivo con Plotly\n",
    "fig = px.bar(\n",
    "    top_features,\n",
    "    x=\"importance\",\n",
    "    y=\"feature\",\n",
    "    orientation=\"h\",\n",
    "    title=\"Top 20 Features más importantes (Random Forest)\",\n",
    "    labels={\"importance\": \"Importancia\", \"feature\": \"Feature\"},\n",
    "    template=\"plotly_dark\",\n",
    ")\n",
    "fig.update_traces(marker_line_color='white', marker_line_width=1)\n",
    "\n",
    "# Invertir el eje Y para que la más importante esté arriba\n",
    "fig.update_layout(yaxis=dict(autorange=\"reversed\"))\n",
    "fig.update_layout(width=800, height=1200)\n",
    "fig.show()\n"
   ]
  },
  {
   "cell_type": "code",
   "execution_count": 70,
   "metadata": {},
   "outputs": [
    {
     "data": {
      "application/vnd.plotly.v1+json": {
       "config": {
        "plotlyServerURL": "https://plot.ly"
       },
       "data": [
        {
         "bingroup": "x",
         "hovertemplate": "HomePlanet=Europa<br>Edad=%{x}<br>count=%{y}<extra></extra>",
         "legendgroup": "Europa",
         "marker": {
          "color": "#636efa",
          "opacity": 0.5,
          "pattern": {
           "shape": ""
          }
         },
         "name": "Europa",
         "nbinsx": 100,
         "orientation": "v",
         "showlegend": true,
         "type": "histogram",
         "x": {
          "bdata": "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",
          "dtype": "f8"
         },
         "xaxis": "x",
         "yaxis": "y"
        },
        {
         "bingroup": "x",
         "hovertemplate": "HomePlanet=Earth<br>Edad=%{x}<br>count=%{y}<extra></extra>",
         "legendgroup": "Earth",
         "marker": {
          "color": "#EF553B",
          "opacity": 0.5,
          "pattern": {
           "shape": ""
          }
         },
         "name": "Earth",
         "nbinsx": 100,
         "orientation": "v",
         "showlegend": true,
         "type": "histogram",
         "x": {
          "bdata": "AAAAAAAAOEAAAAAAAAAwQAAAAAAAAEZAAAAAAAAAOkAAAAAAAIBBQAAAAAAAAEhAAAAAAAAAPEAAAAAAAAA4QAAAAAAAAAAAAAAAAAAALEAAAAAAAADwPwAAAAAAgEhAAAAAAAAAJEAAAAAAAAAcQAAAAAAAAC5AAAAAAAAAQEAAAAAAAAA0QAAAAAAAADFAAAAAAACAS0AAAAAAAAAQQAAAAAAAADVAAAAAAAAATEAAAAAAAAA5QAAAAAAAAEJAAAAAAAAANkAAAAAAAABPQAAAAAAAAE9AAAAAAAAAAAAAAAAAAAAyQAAAAAAAADVAAAAAAAAAM0AAAAAAAAAxQAAAAAAAACxAAAAAAAAAKkAAAAAAAAA4QAAAAAAAgEVAAAAAAACAQUAAAAAAAAA7QAAAAAAAADNAAAAAAAAACEAAAAAAAAA6QAAAAAAAADpAAAAAAAAAN0AAAAAAAAAyQAAAAAAAACJAAAAAAAAAGEAAAAAAAAA3QAAAAAAAAFBAAAAAAAAAO0AAAAAAAAA9QAAAAAAAADJAAAAAAAAAM0AAAAAAAAAqQAAAAAAAADhAAAAAAAAAOkAAAAAAAAA0QAAAAAAAAExAAAAAAAAASUAAAAAAAABDQAAAAAAAADZAAAAAAAAAMUAAAAAAAAA/QAAAAAAAADhAAAAAAAAAM0AAAAAAAABAQAAAAAAAADVAAAAAAAAAM0AAAAAAAAAAAAAAAAAAAAhAAAAAAAAANEAAAAAAAIBCQAAAAAAAADlAAAAAAAAATEAAAAAAAIBIQAAAAAAAAPA/AAAAAAAAIEAAAAAAAIBDQAAAAAAAADJAAAAAAAAALkAAAAAAAAA9QAAAAAAAADNAAAAAAAAAKkAAAAAAAIBBQAAAAAAAADVAAAAAAAAANUAAAAAAAABDQAAAAAAAADNAAAAAAAAAAEAAAAAAAAAAAAAAAAAAACpAAAAAAAAAMEAAAAAAAADwPwAAAAAAAC5AAAAAAAAANUAAAAAAAABNQAAAAAAAADhAAAAAAAAANUAAAAAAAAA+QAAAAAAAAD1AAAAAAAAANUAAAAAAAAA2QAAAAAAAADpAAAAAAAAAPEAAAAAAAAAqQAAAAAAAgEdAAAAAAACAT0AAAAAAAABJQAAAAAAAgEZAAAAAAAAAM0AAAAAAAAA1QAAAAAAAAD1AAAAAAAAANkAAAAAAAIBMQAAAAAAAADNAAAAAAAAAOEAAAAAAAAA3QAAAAAAAADdAAAAAAAAAMkAAAAAAAAAyQAAAAAAAAE5AAAAAAACASEAAAAAAAAAAAAAAAAAAADpAAAAAAAAAKkAAAAAAAIBFQAAAAAAAAD1AAAAAAAAAOUAAAAAAAABGQAAAAAAAABRAAAAAAAAAP0AAAAAAAAAuQAAAAAAAACxAAAAAAAAASUAAAAAAAABAQAAAAAAAADpAAAAAAAAALkAAAAAAAIBAQAAAAAAAADhAAAAAAAAAPkAAAAAAAIBEQAAAAAAAADRAAAAAAAAANkAAAAAAAAA/QAAAAAAAADxAAAAAAAAAQUAAAAAAAAAAAAAAAAAAACxAAAAAAAAAN0AAAAAAAIBIQAAAAAAAACxAAAAAAAAAMkAAAAAAAABIQAAAAAAAADJAAAAAAAAANEAAAAAAAIBDQAAAAAAAADVAAAAAAAAAMEAAAAAAAAAyQAAAAAAAAEVAAAAAAAAAPUAAAAAAAAAxQAAAAAAAACRAAAAAAAAATEAAAAAAAIBDQAAAAAAAAERAAAAAAAAAQEAAAAAAAIBBQAAAAAAAADlAAAAAAAAANkAAAAAAAAA4QAAAAAAAACZAAAAAAACAS0AAAAAAAAAzQAAAAAAAABhAAAAAAAAAHEAAAAAAAAAuQAAAAAAAADhAAAAAAAAAP0AAAAAAAAA2QAAAAAAAAPA/AAAAAAAAM0AAAAAAAABCQAAAAAAAgEJAAAAAAAAALkAAAAAAAABCQAAAAAAAADZAAAAAAAAAKkAAAAAAAAA7QAAAAAAAADxAAAAAAAAALEAAAAAAAIBDQAAAAAAAADVAAAAAAAAARUAAAAAAAIBBQAAAAAAAADpAAAAAAAAA8D8AAAAAAAA2QAAAAAAAADxAAAAAAAAAOkAAAAAAAAA3QAAAAAAAADhAAAAAAAAAN0AAAAAAAAA4QAAAAAAAADdAAAAAAAAARUAAAAAAAAAzQAAAAAAAADVAAAAAAAAAEEAAAAAAAAAoQAAAAAAAADZAAAAAAAAALEAAAAAAAAA3QAAAAAAAADNAAAAAAABAUEAAAAAAAIBLQAAAAAAAgEhAAAAAAAAANkAAAAAAAAA0QAAAAAAAADdAAAAAAAAASEAAAAAAAAAzQAAAAAAAACJAAAAAAAAANUAAAAAAAAA1QAAAAAAAABxAAAAAAAAAP0AAAAAAAABNQAAAAAAAABxAAAAAAAAACEAAAAAAAAA1QAAAAAAAADVAAAAAAAAANkAAAAAAAABGQAAAAAAAAENAAAAAAACAQ0AAAAAAAIBBQAAAAAAAgEJAAAAAAAAAKkAAAAAAAAA1QAAAAAAAAEJAAAAAAAAACEAAAAAAAABAQAAAAAAAAENAAAAAAAAAMkAAAAAAAAAuQAAAAAAAAEZAAAAAAACARkAAAAAAAAA6QAAAAAAAAEdAAAAAAAAAOUAAAAAAAABHQAAAAAAAAC5AAAAAAACAQkAAAAAAAIBGQAAAAAAAABxAAAAAAACAREAAAAAAAAA2QAAAAAAAADhAAAAAAAAAOEAAAAAAAAAyQAAAAAAAADNAAAAAAACARUAAAAAAAAA6QAAAAAAAAENAAAAAAAAA8D8AAAAAAAAAQAAAAAAAADlAAAAAAAAA8D8AAAAAAAAAAAAAAAAAADVAAAAAAAAAOEAAAAAAAAA0QAAAAAAAADdAAAAAAAAAPUAAAAAAAAAsQAAAAAAAADdAAAAAAAAAT0AAAAAAAAA3QAAAAAAAACxAAAAAAAAAM0AAAAAAAAA2QAAAAAAAAD5AAAAAAACASEAAAAAAAAAAAAAAAAAAACRAAAAAAAAAAAAAAAAAAAA5QAAAAAAAAD5AAAAAAAAAM0AAAAAAAAA1QAAAAAAAAEBAAAAAAAAAM0AAAAAAAAA4QAAAAAAAgENAAAAAAAAAQUAAAAAAAAA9QAAAAAAAAD9AAAAAAAAA8D8AAAAAAAA/QAAAAAAAADRAAAAAAAAALkAAAAAAAAAyQAAAAAAAADNAAAAAAAAAEEAAAAAAAAAqQAAAAAAAAEVAAAAAAAAANUAAAAAAAAA/QAAAAAAAAD9AAAAAAAAALEAAAAAAAAAqQAAAAAAAADdAAAAAAAAAQEAAAAAAAABCQAAAAAAAACZAAAAAAAAAGEAAAAAAAIBCQAAAAAAAgEtAAAAAAAAAM0AAAAAAAIBBQAAAAAAAACpAAAAAAAAAP0AAAAAAAABKQAAAAAAAAEBAAAAAAAAAOkAAAAAAAABGQAAAAAAAADJAAAAAAAAAM0AAAAAAAAA0QAAAAAAAADhAAAAAAAAAOkAAAAAAAABGQAAAAAAAgEBAAAAAAAAAP0AAAAAAAABDQAAAAAAAAC5AAAAAAAAAQkAAAAAAAAA4QAAAAAAAAD5AAAAAAAAAAAAAAAAAAABDQAAAAAAAACpAAAAAAAAAMEAAAAAAAAAgQAAAAAAAADNAAAAAAAAAOkAAAAAAAAAuQAAAAAAAAENAAAAAAAAAPEAAAAAAAAAsQAAAAAAAAD1AAAAAAAAANEAAAAAAAAAzQAAAAAAAADVAAAAAAAAAQEAAAAAAAAA0QAAAAAAAgExAAAAAAAAAQUAAAAAAAIBGQAAAAAAAADdAAAAAAAAAPkAAAAAAAAA0QAAAAAAAADZAAAAAAADAUUAAAAAAAAAwQAAAAAAAAEJAAAAAAAAAGEAAAAAAAAA6QAAAAAAAADhAAAAAAACAR0AAAAAAAAA6QAAAAAAAAC5AAAAAAAAANEAAAAAAAAA1QAAAAAAAABRAAAAAAAAATUAAAAAAAAAzQAAAAAAAAD1AAAAAAAAANEAAAAAAAAAyQAAAAAAAADJAAAAAAAAAAAAAAAAAAAAAAAAAAAAAADRAAAAAAAAAN0AAAAAAAAAsQAAAAAAAADlAAAAAAACATkAAAAAAAAA/QAAAAAAAgEdAAAAAAAAALkAAAAAAAIBIQAAAAAAAADRAAAAAAAAAO0AAAAAAAABNQAAAAAAAADNAAAAAAAAAOkAAAAAAAABDQAAAAAAAADlAAAAAAAAAOUAAAAAAAAA/QAAAAAAAAAAAAAAAAAAAEEAAAAAAAAAcQAAAAAAAADRAAAAAAAAANkAAAAAAAAAxQAAAAAAAADRAAAAAAAAAQUAAAAAAAAAiQAAAAAAAADpAAAAAAAAAMkAAAAAAAAA8QAAAAAAAAEBAAAAAAAAAM0AAAAAAAABLQAAAAAAAAChAAAAAAACAQUAAAAAAAAAgQAAAAAAAABxAAAAAAAAACEAAAAAAAAAAAAAAAAAAACRAAAAAAAAAMkAAAAAAAAAyQAAAAAAAADBAAAAAAAAAN0AAAAAAAAA0QAAAAAAAAAAAAAAAAAAA8D8AAAAAAABIQAAAAAAAAChAAAAAAAAAPkAAAAAAAAAkQAAAAAAAACZAAAAAAAAASkAAAAAAAABCQAAAAAAAAEBAAAAAAAAAPEAAAAAAAAAwQAAAAAAAADRAAAAAAAAAN0AAAAAAAIBKQAAAAAAAACBAAAAAAAAAGEAAAAAAAAAIQAAAAAAAACpAAAAAAAAATkAAAAAAAABEQAAAAAAAAD9AAAAAAAAAPEAAAAAAAAA0QAAAAAAAACxAAAAAAAAAEEAAAAAAAAA0QAAAAAAAwFJAAAAAAAAAMkAAAAAAAAA7QAAAAAAAAENAAAAAAAAANkAAAAAAAAA3QAAAAAAAAEBAAAAAAAAANUAAAAAAAAA+QAAAAAAAAERAAAAAAAAAPkAAAAAAAAA2QAAAAAAAADNAAAAAAAAANkAAAAAAAIBJQAAAAAAAADVAAAAAAAAAN0AAAAAAAABDQAAAAAAAAD5AAAAAAAAARkAAAAAAAAAsQAAAAAAAAEJAAAAAAAAAOEAAAAAAAAAyQAAAAAAAADZAAAAAAAAAO0AAAAAAAAAAQAAAAAAAABBAAAAAAAAAIkAAAAAAAIBCQAAAAAAAAABAAAAAAAAANkAAAAAAAAAzQAAAAAAAADVAAAAAAAAAREAAAAAAAAA3QAAAAAAAAABAAAAAAAAAJEAAAAAAAIBFQAAAAAAAAAAAAAAAAAAAOEAAAAAAAABFQAAAAAAAADpAAAAAAAAAOEAAAAAAAAA9QAAAAAAAAEBAAAAAAAAARkAAAAAAAAA3QAAAAAAAAEFAAAAAAAAAOUAAAAAAAAA7QAAAAAAAACxAAAAAAAAARUAAAAAAAAAzQAAAAAAAADZAAAAAAAAANUAAAAAAAAA5QAAAAAAAADtAAAAAAAAANUAAAAAAAAAAQAAAAAAAADNAAAAAAACAREAAAAAAAAA2QAAAAAAAADBAAAAAAAAANEAAAAAAAAAxQAAAAAAAABhAAAAAAAAANkAAAAAAAIBEQAAAAAAAADdAAAAAAAAAQ0AAAAAAAAAcQAAAAAAAgENAAAAAAAAAPEAAAAAAAAA8QAAAAAAAACxAAAAAAAAAN0AAAAAAAAA1QAAAAAAAADFAAAAAAAAAOkAAAAAAAAA3QAAAAAAAADJAAAAAAABAUEAAAAAAAAA7QAAAAAAAADhAAAAAAAAA8D8AAAAAAAAQQAAAAAAAAEZAAAAAAAAALEAAAAAAAAA3QAAAAAAAgElAAAAAAAAAAAAAAAAAAAA4QAAAAAAAADtAAAAAAAAAKkAAAAAAAAAwQAAAAAAAACBAAAAAAACATUAAAAAAAIBPQAAAAAAAgE5AAAAAAAAAKkAAAAAAAAA+QAAAAAAAgE9AAAAAAAAAM0AAAAAAAABAQAAAAAAAAExAAAAAAAAAQ0AAAAAAAAA1QAAAAAAAACZAAAAAAAAACEAAAAAAAAAxQAAAAAAAADFAAAAAAAAAAAAAAAAAAABHQAAAAAAAgE9AAAAAAAAALEAAAAAAAIBTQAAAAAAAADJAAAAAAAAAREAAAAAAAAAsQAAAAAAAAEdAAAAAAACASkAAAAAAAIBHQAAAAAAAADVAAAAAAAAANUAAAAAAAIBCQAAAAAAAAE9AAAAAAAAAQ0AAAAAAAAA4QAAAAAAAADJAAAAAAAAAMEAAAAAAAAA5QAAAAAAAADZAAAAAAAAAOkAAAAAAAAAqQAAAAAAAADJAAAAAAACATEAAAAAAAAAyQAAAAAAAADdAAAAAAACAQkAAAAAAAAAyQAAAAAAAAEVAAAAAAAAAHEAAAAAAAAAcQAAAAAAAADhAAAAAAAAAOEAAAAAAAABFQAAAAAAAADhAAAAAAAAAAAAAAAAAAIBDQAAAAAAAADlAAAAAAAAAOUAAAAAAAABHQAAAAAAAAPA/AAAAAAAAEEAAAAAAAIBCQAAAAAAAgE5AAAAAAAAAMEAAAAAAAAA5QAAAAAAAgERAAAAAAAAAOUAAAAAAAAAzQAAAAAAAADVAAAAAAAAALEAAAAAAAABBQAAAAAAAgEBAAAAAAAAALEAAAAAAAAA8QAAAAAAAAAhAAAAAAAAAAAAAAAAAAABEQAAAAAAAADVAAAAAAACAREAAAAAAAAA0QAAAAAAAAEJAAAAAAAAANkAAAAAAAIBIQAAAAAAAAEZAAAAAAAAAPUAAAAAAAAAwQAAAAAAAADpAAAAAAAAAQUAAAAAAAAAcQAAAAAAAAAhAAAAAAAAAO0AAAAAAAAA8QAAAAAAAADpAAAAAAACAR0AAAAAAAIBRQAAAAAAAADRAAAAAAACARUAAAAAAAAAUQAAAAAAAADFAAAAAAAAAREAAAAAAAABDQAAAAAAAAC5AAAAAAAAAOEAAAAAAAABDQAAAAAAAADpAAAAAAAAAMUAAAAAAAAAxQAAAAAAAADRAAAAAAAAALkAAAAAAAAA+QAAAAAAAADZAAAAAAAAANkAAAAAAAAA0QAAAAAAAADZAAAAAAAAAM0AAAAAAAAA1QAAAAAAAAAAAAAAAAAAAEEAAAAAAAIBNQAAAAAAAAC5AAAAAAAAAOEAAAAAAAAA6QAAAAAAAwFBAAAAAAACAS0AAAAAAAABJQAAAAAAAADdAAAAAAAAANUAAAAAAAAA1QAAAAAAAgEVAAAAAAAAANUAAAAAAAAAuQAAAAAAAgEJAAAAAAAAARUAAAAAAAIBJQAAAAAAAgENAAAAAAAAAKEAAAAAAAAAkQAAAAAAAAAAAAAAAAAAAAAAAAAAAAADwPwAAAAAAgEBAAAAAAAAAN0AAAAAAAAA4QAAAAAAAgEBAAAAAAAAAOUAAAAAAAAAyQAAAAAAAADBAAAAAAAAAMUAAAAAAAAA/QAAAAAAAADhAAAAAAAAAN0AAAAAAAIBLQAAAAAAAAENAAAAAAAAAAEAAAAAAAAAIQAAAAAAAADRAAAAAAAAAOUAAAAAAAABLQAAAAAAAADlAAAAAAAAALEAAAAAAAAAAAAAAAAAAgENAAAAAAAAANkAAAAAAAABNQAAAAAAAAPA/AAAAAAAAIEAAAAAAAAA9QAAAAAAAAAAAAAAAAACAQkAAAAAAAIBIQAAAAAAAADRAAAAAAAAANEAAAAAAAAA6QAAAAAAAgEFAAAAAAAAAPkAAAAAAAAA2QAAAAAAAABRAAAAAAACARUAAAAAAAAA5QAAAAAAAADNAAAAAAAAARUAAAAAAAABEQAAAAAAAACxAAAAAAAAAR0AAAAAAAAA3QAAAAAAAAElAAAAAAAAANUAAAAAAAAAyQAAAAAAAgEdAAAAAAAAAQkAAAAAAAAA0QAAAAAAAAC5AAAAAAAAAQUAAAAAAAAA1QAAAAAAAgElAAAAAAAAATUAAAAAAAAA5QAAAAAAAAEJAAAAAAAAANUAAAAAAAIBBQAAAAAAAADhAAAAAAAAAAEAAAAAAAIBFQAAAAAAAAENAAAAAAAAAS0AAAAAAAAA2QAAAAAAAADpAAAAAAAAACEAAAAAAAAA9QAAAAAAAAEZAAAAAAAAAO0AAAAAAAAAxQAAAAAAAAEZAAAAAAAAANkAAAAAAAAA/QAAAAAAAADFAAAAAAAAAPkAAAAAAAAAuQAAAAAAAgEtAAAAAAACAQEAAAAAAAAAQQAAAAAAAAABAAAAAAAAAMUAAAAAAAAAzQAAAAAAAAEJAAAAAAAAAMUAAAAAAAAAuQAAAAAAAADRAAAAAAAAAM0AAAAAAAAA4QAAAAAAAgEVAAAAAAAAARUAAAAAAAAA1QAAAAAAAAElAAAAAAAAAPkAAAAAAAAAYQAAAAAAAAAhAAAAAAAAAJkAAAAAAAABKQAAAAAAAACxAAAAAAAAAUUAAAAAAAAAyQAAAAAAAgEtAAAAAAAAAQ0AAAAAAAAAqQAAAAAAAADNAAAAAAAAAN0AAAAAAAAA9QAAAAAAAAEdAAAAAAAAAMUAAAAAAAAA0QAAAAAAAADhAAAAAAAAAS0AAAAAAAABDQAAAAAAAAERAAAAAAAAANkAAAAAAAAA5QAAAAAAAgEZAAAAAAAAAPUAAAAAAAAAwQAAAAAAAADRAAAAAAACAQEAAAAAAAAAyQAAAAAAAgEFAAAAAAAAAOkAAAAAAAAA3QAAAAAAAADdAAAAAAAAALEAAAAAAAAA1QAAAAAAAADJAAAAAAAAAM0AAAAAAAAA2QAAAAAAAADFAAAAAAAAAKkAAAAAAAAA0QAAAAAAAgE5AAAAAAAAAMkAAAAAAAIBQQAAAAAAAADVAAAAAAAAAHEAAAAAAAAAuQAAAAAAAACpAAAAAAAAAQ0AAAAAAAIBGQAAAAAAAADNAAAAAAACASEAAAAAAAAA1QAAAAAAAADJAAAAAAAAAO0AAAAAAAAA4QAAAAAAAgERAAAAAAAAAN0AAAAAAAAA7QAAAAAAAAE1AAAAAAAAAOEAAAAAAAAA0QAAAAAAAAD5AAAAAAAAAOEAAAAAAAAA5QAAAAAAAgEVAAAAAAAAAO0AAAAAAAIBOQAAAAAAAAD9AAAAAAAAAKkAAAAAAAAA0QAAAAAAAADBAAAAAAAAALkAAAAAAAABJQAAAAAAAgEdAAAAAAAAAPUAAAAAAAAAsQAAAAAAAADlAAAAAAAAANkAAAAAAAAA/QAAAAAAAADhAAAAAAACAQ0AAAAAAAAA7QAAAAAAAADpAAAAAAAAAO0AAAAAAAAA2QAAAAAAAAEtAAAAAAAAAOkAAAAAAAIBHQAAAAAAAAD1AAAAAAACARUAAAAAAAABFQAAAAAAAgENAAAAAAAAAM0AAAAAAAADwPwAAAAAAADZAAAAAAAAAM0AAAAAAAAAYQAAAAAAAADZAAAAAAAAAQkAAAAAAAIBCQAAAAAAAADdAAAAAAAAAOEAAAAAAAAAUQAAAAAAAgEBAAAAAAAAAKkAAAAAAAIBGQAAAAAAAgENAAAAAAAAAMkAAAAAAAAA5QAAAAAAAADZAAAAAAAAANUAAAAAAAAA7QAAAAAAAADpAAAAAAAAAOEAAAAAAAAAuQAAAAAAAACZAAAAAAAAAHEAAAAAAAAAAAAAAAAAAAC5AAAAAAACAQUAAAAAAAAAqQAAAAAAAADRAAAAAAAAAOEAAAAAAAAAIQAAAAAAAAEZAAAAAAAAAM0AAAAAAAAA+QAAAAAAAADZAAAAAAAAANkAAAAAAAIBBQAAAAAAAgExAAAAAAAAACEAAAAAAAAAmQAAAAAAAABBAAAAAAAAANkAAAAAAAAA0QAAAAAAAAEdAAAAAAAAAPkAAAAAAAABCQAAAAAAAADVAAAAAAAAARUAAAAAAAAA2QAAAAAAAADZAAAAAAAAAOEAAAAAAAAAyQAAAAAAAgEVAAAAAAAAAQEAAAAAAAAAuQAAAAAAAADRAAAAAAAAAQUAAAAAAAAAxQAAAAAAAACpAAAAAAACAQEAAAAAAAAA4QAAAAAAAADFAAAAAAACARUAAAAAAAIBAQAAAAAAAADNAAAAAAAAAKkAAAAAAAAAwQAAAAAAAADVAAAAAAAAAPEAAAAAAAAA3QAAAAAAAgEZAAAAAAAAAPkAAAAAAAABKQAAAAAAAgERAAAAAAACAQUAAAAAAAAA6QAAAAAAAADFAAAAAAAAAOUAAAAAAAAA5QAAAAAAAACxAAAAAAAAANkAAAAAAAAA4QAAAAAAAADNAAAAAAACARUAAAAAAAAA9QAAAAAAAADhAAAAAAAAAOUAAAAAAAAA8QAAAAAAAADdAAAAAAACAU0AAAAAAAABCQAAAAAAAADJAAAAAAAAAMEAAAAAAAABAQAAAAAAAADNAAAAAAAAAEEAAAAAAAAAAAAAAAAAAAABAAAAAAAAAM0AAAAAAAAA8QAAAAAAAAEVAAAAAAAAAMkAAAAAAAAA4QAAAAAAAADRAAAAAAAAANkAAAAAAAAA2QAAAAAAAADxAAAAAAAAAIEAAAAAAAIBGQAAAAAAAgEFAAAAAAAAAMkAAAAAAAAA3QAAAAAAAADxAAAAAAAAAQEAAAAAAAAAxQAAAAAAAAEFAAAAAAAAALEAAAAAAAAA2QAAAAAAAADNAAAAAAAAANkAAAAAAAAA6QAAAAAAAADNAAAAAAAAAMEAAAAAAAABBQAAAAAAAADhAAAAAAAAAN0AAAAAAAABCQAAAAAAAADZAAAAAAAAAPkAAAAAAAAA0QAAAAAAAADNAAAAAAAAANUAAAAAAAAAqQAAAAAAAADdAAAAAAAAAQUAAAAAAAAA0QAAAAAAAADFAAAAAAAAANUAAAAAAAAA1QAAAAAAAAD9AAAAAAAAAOkAAAAAAAIBJQAAAAAAAADtAAAAAAAAAP0AAAAAAAAA4QAAAAAAAADRAAAAAAAAAOEAAAAAAAAAyQAAAAAAAAEZAAAAAAAAAN0AAAAAAAAA0QAAAAAAAADJAAAAAAAAAN0AAAAAAAAAmQAAAAAAAAPA/AAAAAAAAOUAAAAAAAABEQAAAAAAAAABAAAAAAAAAQEAAAAAAAAAuQAAAAAAAADBAAAAAAAAAGEAAAAAAAAAzQAAAAAAAAC5AAAAAAAAAPUAAAAAAAAAiQAAAAAAAAE1AAAAAAACAQ0AAAAAAAAAqQAAAAAAAgEBAAAAAAAAAAAAAAAAAAABCQAAAAAAAAC5AAAAAAAAAP0AAAAAAAABFQAAAAAAAAAAAAAAAAAAACEAAAAAAAABMQAAAAAAAADdAAAAAAAAAPUAAAAAAAAAxQAAAAAAAACpAAAAAAAAAOEAAAAAAAABDQAAAAAAAAEdAAAAAAACASkAAAAAAAAA7QAAAAAAAAD9AAAAAAAAAQkAAAAAAAABIQAAAAAAAADZAAAAAAAAANUAAAAAAAAA3QAAAAAAAADNAAAAAAACAQEAAAAAAAAA4QAAAAAAAAAAAAAAAAACAREAAAAAAAAAzQAAAAAAAAEZAAAAAAAAALEAAAAAAAABDQAAAAAAAAEZAAAAAAACATEAAAAAAAABGQAAAAAAAADxAAAAAAAAAKkAAAAAAAAA0QAAAAAAAADJAAAAAAAAAMUAAAAAAAAA7QAAAAAAAgE5AAAAAAACATUAAAAAAAIBMQAAAAAAAAEVAAAAAAAAAQkAAAAAAAABAQAAAAAAAABhAAAAAAAAALkAAAAAAAAA8QAAAAAAAAEZAAAAAAAAAMkAAAAAAAAAIQAAAAAAAAChAAAAAAAAAAAAAAAAAAAA9QAAAAAAAACJAAAAAAAAAO0AAAAAAAAA4QAAAAAAAAENAAAAAAAAAMEAAAAAAAIBAQAAAAAAAADlAAAAAAAAAHEAAAAAAAABAQAAAAAAAADdAAAAAAAAASEAAAAAAAAA0QAAAAAAAADVAAAAAAAAAN0AAAAAAAIBBQAAAAAAAADZAAAAAAACASUAAAAAAAAA9QAAAAAAAAAAAAAAAAACAQ0AAAAAAAAA0QAAAAAAAADJAAAAAAAAAPEAAAAAAAAA6QAAAAAAAAExAAAAAAAAALEAAAAAAAAA1QAAAAAAAACxAAAAAAAAAKkAAAAAAAAA4QAAAAAAAADhAAAAAAAAAM0AAAAAAAADwPwAAAAAAAEBAAAAAAAAAM0AAAAAAAIBBQAAAAAAAAEBAAAAAAAAAP0AAAAAAAIBCQAAAAAAAADNAAAAAAACARUAAAAAAAAA2QAAAAAAAADhAAAAAAAAAJkAAAAAAAAAQQAAAAAAAAAAAAAAAAAAAPkAAAAAAAAA1QAAAAAAAgExAAAAAAAAAPkAAAAAAAEBRQAAAAAAAADVAAAAAAAAAKkAAAAAAAIBCQAAAAAAAADZAAAAAAACAQ0AAAAAAAAAzQAAAAAAAABxAAAAAAAAAM0AAAAAAAAA1QAAAAAAAgEFAAAAAAAAANkAAAAAAAABPQAAAAAAAgERAAAAAAAAANkAAAAAAAABEQAAAAAAAAC5AAAAAAAAA8D8AAAAAAABKQAAAAAAAAAAAAAAAAAAAKEAAAAAAAAA4QAAAAAAAADRAAAAAAAAAPEAAAAAAAIBSQAAAAAAAABhAAAAAAAAALkAAAAAAAABIQAAAAAAAADVAAAAAAAAAP0AAAAAAAAA9QAAAAAAAADVAAAAAAAAAMkAAAAAAAAAsQAAAAAAAAAAAAAAAAACAS0AAAAAAAAAsQAAAAAAAADhAAAAAAAAAOkAAAAAAAAA2QAAAAAAAADxAAAAAAAAANEAAAAAAAAAyQAAAAAAAgEVAAAAAAAAA8D8AAAAAAABOQAAAAAAAADxAAAAAAAAAJkAAAAAAAAAiQAAAAAAAAERAAAAAAAAANUAAAAAAAAA4QAAAAAAAgEtAAAAAAAAASUAAAAAAAAA4QAAAAAAAAAAAAAAAAAAAOEAAAAAAAAAIQAAAAAAAADZAAAAAAAAAN0AAAAAAAABCQAAAAAAAAE1AAAAAAAAA8D8AAAAAAIBAQAAAAAAAADNAAAAAAAAANUAAAAAAAAA7QAAAAAAAAPA/AAAAAAAAP0AAAAAAAAAyQAAAAAAAAD5AAAAAAAAAMUAAAAAAAAA5QAAAAAAAgEpAAAAAAAAANUAAAAAAAAA0QAAAAAAAACJAAAAAAAAANEAAAAAAAABAQAAAAAAAADpAAAAAAACASUAAAAAAAAAgQAAAAAAAAABAAAAAAAAAM0AAAAAAAABAQAAAAAAAADBAAAAAAACAQUAAAAAAAAA/QAAAAAAAAEBAAAAAAAAAM0AAAAAAAAA1QAAAAAAAAENAAAAAAAAAMUAAAAAAAAA9QAAAAAAAADBAAAAAAAAAPEAAAAAAAAA0QAAAAAAAAEZAAAAAAAAAUEAAAAAAAAAgQAAAAAAAAPA/AAAAAAAAAAAAAAAAAAAsQAAAAAAAADlAAAAAAAAAM0AAAAAAAAA7QAAAAAAAAExAAAAAAAAARUAAAAAAAAA/QAAAAAAAAEBAAAAAAAAAQUAAAAAAAIBLQAAAAAAAADxAAAAAAAAAOEAAAAAAAIBHQAAAAAAAAEBAAAAAAAAAMUAAAAAAAIBHQAAAAAAAADJAAAAAAAAAQEAAAAAAAAA0QAAAAAAAABhAAAAAAAAAFEAAAAAAAAA0QAAAAAAAAEVAAAAAAAAALEAAAAAAAIBBQAAAAAAAgEpAAAAAAAAATEAAAAAAAIBBQAAAAAAAADJAAAAAAAAANEAAAAAAAAA6QAAAAAAAADRAAAAAAAAAEEAAAAAAAABQQAAAAAAAAAAAAAAAAAAAM0AAAAAAAAAYQAAAAAAAADZAAAAAAACAQkAAAAAAAAA4QAAAAAAAAENAAAAAAAAAJkAAAAAAAAAYQAAAAAAAAC5AAAAAAAAAM0AAAAAAAAA7QAAAAAAAgENAAAAAAABAUEAAAAAAAIBCQAAAAAAAgEBAAAAAAACAUkAAAAAAAAA3QAAAAAAAADdAAAAAAAAAOkAAAAAAAAAAAAAAAAAAAAAAAAAAAAAAOEAAAAAAAAAxQAAAAAAAAC5AAAAAAACAQkAAAAAAAABGQAAAAAAAAEVAAAAAAAAAPUAAAAAAAAA1QAAAAAAAADVAAAAAAAAAMEAAAAAAAABCQAAAAAAAADpAAAAAAAAALEAAAAAAAAA9QAAAAAAAgElAAAAAAAAAUEAAAAAAAAAwQAAAAAAAADRAAAAAAAAAAAAAAAAAAAA4QAAAAAAAAElAAAAAAAAAP0AAAAAAAAA5QAAAAAAAAE9AAAAAAAAANEAAAAAAAAAuQAAAAAAAgEBAAAAAAAAANUAAAAAAAADwPwAAAAAAAENAAAAAAAAAAAAAAAAAAAA7QAAAAAAAADxAAAAAAAAAM0AAAAAAAAAwQAAAAAAAAAAAAAAAAAAAAAAAAAAAAAAuQAAAAAAAADdAAAAAAAAAPUAAAAAAAAA/QAAAAAAAACxAAAAAAAAASEAAAAAAAIBKQAAAAAAAABRAAAAAAAAANUAAAAAAAAA8QAAAAAAAADJAAAAAAAAALEAAAAAAAAA4QAAAAAAAADpAAAAAAAAAM0AAAAAAAAA0QAAAAAAAACxAAAAAAAAAOUAAAAAAAAA4QAAAAAAAADZAAAAAAAAANEAAAAAAAIBKQAAAAAAAgEtAAAAAAAAANkAAAAAAAAA2QAAAAAAAAFBAAAAAAAAAOUAAAAAAAAA4QAAAAAAAAD9AAAAAAAAAR0AAAAAAAAA4QAAAAAAAADJAAAAAAAAANEAAAAAAAAAkQAAAAAAAADdAAAAAAACAQkAAAAAAAABCQAAAAAAAADJAAAAAAACATkAAAAAAAAAzQAAAAAAAAD1AAAAAAAAAQ0AAAAAAAIBEQAAAAAAAADdAAAAAAAAAR0AAAAAAAIBDQAAAAAAAgEJAAAAAAAAAPEAAAAAAAAA9QAAAAAAAACxAAAAAAAAALkAAAAAAAAAxQAAAAAAAABBAAAAAAAAAOEAAAAAAAABJQAAAAAAAAEFAAAAAAAAAOEAAAAAAAAA4QAAAAAAAADhAAAAAAACAQUAAAAAAAAA6QAAAAAAAADpAAAAAAAAAM0AAAAAAAAAyQAAAAAAAgEFAAAAAAAAAIEAAAAAAAAAUQAAAAAAAAPA/AAAAAAAAAEAAAAAAAAAwQAAAAAAAADJAAAAAAAAAOEAAAAAAAAAwQAAAAAAAAC5AAAAAAAAASEAAAAAAAAAxQAAAAAAAADNAAAAAAAAAOEAAAAAAAAAzQAAAAAAAADJAAAAAAAAAQ0AAAAAAAAAyQAAAAAAAADdAAAAAAAAAOkAAAAAAAAA1QAAAAAAAADRAAAAAAAAAIEAAAAAAAAA2QAAAAAAAAEVAAAAAAAAAN0AAAAAAAAA+QAAAAAAAADJAAAAAAACAQUAAAAAAAABIQAAAAAAAADhAAAAAAACASUAAAAAAAAA2QAAAAAAAAC5AAAAAAAAAN0AAAAAAAAA7QAAAAAAAADJAAAAAAAAAMkAAAAAAAIBJQAAAAAAAADdAAAAAAAAAOEAAAAAAAIBEQAAAAAAAAEFAAAAAAAAAREAAAAAAAIBPQAAAAAAAADVAAAAAAACAREAAAAAAAAAuQAAAAAAAADhAAAAAAAAAO0AAAAAAAAAyQAAAAAAAgEBAAAAAAAAAIkAAAAAAAAAAAAAAAAAAADBAAAAAAAAARUAAAAAAAAAiQAAAAAAAAD1AAAAAAAAANkAAAAAAAAAzQAAAAAAAAEJAAAAAAAAANUAAAAAAAAAyQAAAAAAAADlAAAAAAAAALEAAAAAAAAAAQAAAAAAAAPA/AAAAAAAAGEAAAAAAAABMQAAAAAAAABBAAAAAAABAUEAAAAAAAABCQAAAAAAAADRAAAAAAAAALkAAAAAAAAA9QAAAAAAAgEBAAAAAAAAAOkAAAAAAAIBAQAAAAAAAADJAAAAAAAAAIkAAAAAAAAAAAAAAAAAAADNAAAAAAAAAPUAAAAAAAABFQAAAAAAAAEFAAAAAAAAAMkAAAAAAAAA4QAAAAAAAADhAAAAAAACAQkAAAAAAAIBLQAAAAAAAADRAAAAAAAAAPEAAAAAAAAAyQAAAAAAAACxAAAAAAACASUAAAAAAAIBGQAAAAAAAgEZAAAAAAAAANUAAAAAAAAA8QAAAAAAAAAAAAAAAAAAAR0AAAAAAAIBLQAAAAAAAADVAAAAAAACASEAAAAAAAAAAAAAAAAAAADFAAAAAAAAARkAAAAAAAAAzQAAAAAAAAAhAAAAAAAAAM0AAAAAAAAA2QAAAAAAAAElAAAAAAAAAMUAAAAAAAABGQAAAAAAAgElAAAAAAAAAEEAAAAAAAABEQAAAAAAAADtAAAAAAAAAIEAAAAAAAAAIQAAAAAAAACZAAAAAAAAAOEAAAAAAAAA5QAAAAAAAADlAAAAAAAAAO0AAAAAAAAA5QAAAAAAAAAAAAAAAAAAATUAAAAAAAAAIQAAAAAAAABBAAAAAAAAAAEAAAAAAAAAUQAAAAAAAACBAAAAAAAAAMUAAAAAAAAAQQAAAAAAAAERAAAAAAAAAMEAAAAAAAAAAQAAAAAAAgE1AAAAAAAAAQ0AAAAAAAABBQAAAAAAAgE1AAAAAAACAQkAAAAAAAAA9QAAAAAAAAAAAAAAAAAAANUAAAAAAAAAgQAAAAAAAADVAAAAAAAAANkAAAAAAAAAsQAAAAAAAADhAAAAAAAAAOEAAAAAAAAAsQAAAAAAAAD1AAAAAAAAANkAAAAAAAAA1QAAAAAAAAEJAAAAAAAAAS0AAAAAAAABFQAAAAAAAADlAAAAAAAAAOEAAAAAAAAA3QAAAAAAAADRAAAAAAAAASUAAAAAAAAA6QAAAAAAAADhAAAAAAAAALEAAAAAAAAAuQAAAAAAAAD5AAAAAAAAAP0AAAAAAAIBEQAAAAAAAgEVAAAAAAAAAN0AAAAAAAAA5QAAAAAAAADxAAAAAAAAAM0AAAAAAAAA1QAAAAAAAADdAAAAAAAAAMkAAAAAAAIBDQAAAAAAAADdAAAAAAAAAJkAAAAAAAABCQAAAAAAAACpAAAAAAAAAR0AAAAAAAAAuQAAAAAAAgEFAAAAAAAAAO0AAAAAAAAAwQAAAAAAAgEJAAAAAAAAAQ0AAAAAAAAA8QAAAAAAAADdAAAAAAAAAO0AAAAAAAIBHQAAAAAAAgEJAAAAAAAAAM0AAAAAAAAAzQAAAAAAAADhAAAAAAAAAMUAAAAAAAAA3QAAAAAAAADFAAAAAAAAAKkAAAAAAAIBQQAAAAAAAADtAAAAAAAAAM0AAAAAAAIBLQAAAAAAAADdAAAAAAAAAHEAAAAAAAAAoQAAAAAAAgEJAAAAAAAAANkAAAAAAAAA/QAAAAAAAACpAAAAAAAAAPUAAAAAAAAA8QAAAAAAAADVAAAAAAAAAOEAAAAAAAAAyQAAAAAAAAFFAAAAAAAAAMUAAAAAAAAAqQAAAAAAAAD5AAAAAAAAALkAAAAAAAAA+QAAAAAAAgERAAAAAAAAAO0AAAAAAAAAyQAAAAAAAADtAAAAAAAAAM0AAAAAAAIBCQAAAAAAAADhAAAAAAAAAPUAAAAAAAABGQAAAAAAAADNAAAAAAAAAO0AAAAAAAAA4QAAAAAAAADJAAAAAAAAAQEAAAAAAAIBLQAAAAAAAADNAAAAAAAAAOEAAAAAAAABCQAAAAAAAAEpAAAAAAAAAPUAAAAAAAIBBQAAAAAAAABhAAAAAAAAALkAAAAAAAABDQAAAAAAAAExAAAAAAAAAEEAAAAAAAAA1QAAAAAAAgEJAAAAAAAAAGEAAAAAAAAA2QAAAAAAAADZAAAAAAAAASEAAAAAAAAA4QAAAAAAAADRAAAAAAAAAMUAAAAAAAAA2QAAAAAAAADJAAAAAAAAAPEAAAAAAAAA2QAAAAAAAAElAAAAAAAAANUAAAAAAAIBDQAAAAAAAADtAAAAAAAAAOUAAAAAAAIBCQAAAAAAAADNAAAAAAAAAQkAAAAAAAIBFQAAAAAAAADdAAAAAAAAASEAAAAAAAAAqQAAAAAAAABRAAAAAAAAAMkAAAAAAAAA3QAAAAAAAADdAAAAAAAAAOUAAAAAAAAAyQAAAAAAAAD1AAAAAAACAS0AAAAAAAIBLQAAAAAAAADdAAAAAAACAQkAAAAAAAIBAQAAAAAAAADJAAAAAAAAAQ0AAAAAAAABJQAAAAAAAADVAAAAAAAAANkAAAAAAAAA0QAAAAAAAAERAAAAAAAAAPEAAAAAAAABEQAAAAAAAADhAAAAAAAAANEAAAAAAAAA1QAAAAAAAADdAAAAAAAAAPEAAAAAAAAA4QAAAAAAAADtAAAAAAAAAOEAAAAAAAAA6QAAAAAAAABBAAAAAAAAAIkAAAAAAAAAAAAAAAAAAgEFAAAAAAAAACEAAAAAAAAA6QAAAAAAAgENAAAAAAAAAR0AAAAAAAAA6QAAAAAAAADRAAAAAAACAQUAAAAAAAAAmQAAAAAAAACxAAAAAAAAAEEAAAAAAAAA/QAAAAAAAAC5AAAAAAACAQ0AAAAAAAAAcQAAAAAAAADhAAAAAAAAAMEAAAAAAAAAAAAAAAAAAAC5AAAAAAACAQkAAAAAAAIBCQAAAAAAAgEhAAAAAAAAAMkAAAAAAAAA5QAAAAAAAgEVAAAAAAAAANEAAAAAAAAA+QAAAAAAAAD5AAAAAAAAANEAAAAAAAAA0QAAAAAAAADhAAAAAAAAARkAAAAAAAAAAAAAAAAAAAC5AAAAAAAAAQUAAAAAAAAA0QAAAAAAAAEVAAAAAAAAANUAAAAAAAAAxQAAAAAAAADhAAAAAAAAAOEAAAAAAAAA3QAAAAAAAADZAAAAAAACAQkAAAAAAAAA+QAAAAAAAAEBAAAAAAAAAQkAAAAAAAIBCQAAAAAAAgEZAAAAAAAAAN0AAAAAAAAA/QAAAAAAAADxAAAAAAAAAN0AAAAAAAAAsQAAAAAAAgEpAAAAAAAAAR0AAAAAAAAA5QAAAAAAAADxAAAAAAACAREAAAAAAAAAsQAAAAAAAADBAAAAAAAAAOkAAAAAAAIBGQAAAAAAAACpAAAAAAAAANkAAAAAAAIBGQAAAAAAAAEVAAAAAAAAAIkAAAAAAAAAxQAAAAAAAADhAAAAAAAAAAEAAAAAAAAAQQAAAAAAAACJAAAAAAAAAPkAAAAAAAAAAQAAAAAAAAPA/AAAAAAAAJkAAAAAAAAAIQAAAAAAAgEBAAAAAAAAACEAAAAAAAABDQAAAAAAAADVAAAAAAAAARUAAAAAAAABDQAAAAAAAAENAAAAAAAAALkAAAAAAAAA7QAAAAAAAAD5AAAAAAAAAREAAAAAAAABDQAAAAAAAgE5AAAAAAAAANEAAAAAAAAA4QAAAAAAAADBAAAAAAAAANUAAAAAAAAA3QAAAAAAAADFAAAAAAAAAOEAAAAAAAAA7QAAAAAAAADRAAAAAAAAANkAAAAAAAAA+QAAAAAAAADhAAAAAAAAARkAAAAAAAAA5QAAAAAAAADZAAAAAAAAANkAAAAAAAAA2QAAAAAAAADJAAAAAAAAANkAAAAAAAAA2QAAAAAAAAD9AAAAAAAAANkAAAAAAAIBFQAAAAAAAADJAAAAAAACAT0AAAAAAAABJQAAAAAAAADBAAAAAAACAS0AAAAAAAAAyQAAAAAAAAEZAAAAAAAAANkAAAAAAAAA1QAAAAAAAADZAAAAAAAAASkAAAAAAAABDQAAAAAAAADNAAAAAAAAAPkAAAAAAAAA3QAAAAAAAgEtAAAAAAACAQ0AAAAAAAAA4QAAAAAAAADFAAAAAAAAAMUAAAAAAAAAqQAAAAAAAADVAAAAAAAAANEAAAAAAAAA2QAAAAAAAADRAAAAAAACATEAAAAAAAAAkQAAAAAAAAD9AAAAAAAAALkAAAAAAAAAyQAAAAAAAADxAAAAAAAAAREAAAAAAAABAQAAAAAAAgEFAAAAAAAAASkAAAAAAAABBQAAAAAAAAEdAAAAAAAAAN0AAAAAAAABGQAAAAAAAgE1AAAAAAAAAMkAAAAAAAIBIQAAAAAAAgE1AAAAAAAAAOEAAAAAAAAA/QAAAAAAAAEFAAAAAAAAANEAAAAAAAAAzQAAAAAAAAEJAAAAAAAAAO0AAAAAAAAA5QAAAAAAAgENAAAAAAAAAM0AAAAAAAABAQAAAAAAAgE5AAAAAAAAAOkAAAAAAAIBFQAAAAAAAAAhAAAAAAAAAOUAAAAAAAAAoQAAAAAAAAABAAAAAAAAAR0AAAAAAAABAQAAAAAAAADhAAAAAAAAAPEAAAAAAAAA4QAAAAAAAADVAAAAAAAAAQ0AAAAAAAAA2QAAAAAAAAEVAAAAAAACARUAAAAAAAAA+QAAAAAAAgEFAAAAAAAAAMkAAAAAAAABHQAAAAAAAADhAAAAAAAAAN0AAAAAAAAAqQAAAAAAAAC5AAAAAAAAAMkAAAAAAAABCQAAAAAAAgEBAAAAAAACAREAAAAAAAABCQAAAAAAAACpAAAAAAAAAQUAAAAAAAAA4QAAAAAAAADJAAAAAAAAAN0AAAAAAAAA/QAAAAAAAAC5AAAAAAAAANUAAAAAAAABCQAAAAAAAAExAAAAAAAAAJEAAAAAAAAAsQAAAAAAAACpAAAAAAAAANkAAAAAAAAA0QAAAAAAAADZAAAAAAAAAAAAAAAAAAAAcQAAAAAAAAEBAAAAAAAAAHEAAAAAAAAA5QAAAAAAAgElAAAAAAAAAPUAAAAAAAIBHQAAAAAAAADhAAAAAAAAAPUAAAAAAAAA/QAAAAAAAADBAAAAAAAAAO0AAAAAAAABFQAAAAAAAAEJAAAAAAAAAOEAAAAAAAAAzQAAAAAAAADpAAAAAAAAAM0AAAAAAAIBBQAAAAAAAADhAAAAAAAAAN0AAAAAAAAAyQAAAAAAAADpAAAAAAAAAKkAAAAAAAAAwQAAAAAAAAD5AAAAAAAAAREAAAAAAAIBPQAAAAAAAgEdAAAAAAAAAN0AAAAAAAAA3QAAAAAAAADVAAAAAAAAAN0AAAAAAAAAQQAAAAAAAADlAAAAAAAAAAAAAAAAAAAA1QAAAAAAAAEFAAAAAAAAAIkAAAAAAAAAoQAAAAAAAACpAAAAAAACARUAAAAAAAAAAAAAAAAAAACxAAAAAAAAANkAAAAAAAAAAQAAAAAAAADxAAAAAAAAATkAAAAAAAABIQAAAAAAAADJAAAAAAAAAP0AAAAAAAAA5QAAAAAAAAAAAAAAAAAAAPkAAAAAAAAA8QAAAAAAAADlAAAAAAAAAOEAAAAAAAAA4QAAAAAAAACpAAAAAAAAAPUAAAAAAAABHQAAAAAAAACpAAAAAAAAANkAAAAAAAAA9QAAAAAAAAEdAAAAAAAAAOEAAAAAAAIBAQAAAAAAAgExAAAAAAAAAQ0AAAAAAAAA8QAAAAAAAgEFAAAAAAAAAOEAAAAAAAAAxQAAAAAAAACxAAAAAAAAANUAAAAAAAIBCQAAAAAAAAC5AAAAAAAAANUAAAAAAAAA8QAAAAAAAADpAAAAAAAAAOUAAAAAAAAA9QAAAAAAAADJAAAAAAACAQUAAAAAAAAA6QAAAAAAAAAAAAAAAAAAAO0AAAAAAAABAQAAAAAAAACxAAAAAAAAAMEAAAAAAAIBJQAAAAAAAABxAAAAAAAAACEAAAAAAAAAAQAAAAAAAABxAAAAAAAAAN0AAAAAAAAA3QAAAAAAAADJAAAAAAAAANUAAAAAAAAA0QAAAAAAAADdAAAAAAAAASEAAAAAAAAAuQAAAAAAAAD5AAAAAAAAAQkAAAAAAAAA0QAAAAAAAADVAAAAAAAAAO0AAAAAAAAA9QAAAAAAAAE5AAAAAAAAARUAAAAAAAAA4QAAAAAAAADRAAAAAAAAASEAAAAAAAABGQAAAAAAAAENAAAAAAAAAMEAAAAAAAAAwQAAAAAAAACZAAAAAAAAANkAAAAAAAIBFQAAAAAAAADRAAAAAAAAANkAAAAAAAIBDQAAAAAAAgEJAAAAAAAAAM0AAAAAAAABKQAAAAAAAABxAAAAAAAAAPkAAAAAAAAA7QAAAAAAAACpAAAAAAAAAMEAAAAAAAAA8QAAAAAAAgENAAAAAAAAAOEAAAAAAAAA1QAAAAAAAAD9AAAAAAACAQkAAAAAAAIBIQAAAAAAAADFAAAAAAAAAQkAAAAAAAAAxQAAAAAAAADRAAAAAAAAA8D8AAAAAAAA0QAAAAAAAADdAAAAAAAAANkAAAAAAAAA2QAAAAAAAAERAAAAAAACAQUAAAAAAAAA2QAAAAAAAADtAAAAAAAAANEAAAAAAAAAuQAAAAAAAADJAAAAAAAAAO0AAAAAAAAA2QAAAAAAAAExAAAAAAAAAPEAAAAAAAABFQAAAAAAAADRAAAAAAAAAPUAAAAAAAABCQAAAAAAAAFBAAAAAAAAA8D8AAAAAAAAAAAAAAAAAADJAAAAAAAAAAAAAAAAAAAAQQAAAAAAAAEFAAAAAAAAAJkAAAAAAAAAAAAAAAAAAgEBAAAAAAAAANkAAAAAAAAA7QAAAAAAAgEJAAAAAAAAAMkAAAAAAAAA6QAAAAAAAADJAAAAAAAAALEAAAAAAAAAyQAAAAAAAAEJAAAAAAAAANkAAAAAAAABBQAAAAAAAgEJAAAAAAAAANkAAAAAAAAA6QAAAAAAAACxAAAAAAAAAMUAAAAAAAAA+QAAAAAAAAAhAAAAAAAAAGEAAAAAAAAA1QAAAAAAAACBAAAAAAAAALEAAAAAAAAA3QAAAAAAAAEBAAAAAAACASEAAAAAAAAA0QAAAAAAAADlAAAAAAAAAM0AAAAAAAAA8QAAAAAAAAFFAAAAAAAAAMEAAAAAAAAA3QAAAAAAAAD9AAAAAAAAAO0AAAAAAAAA0QAAAAAAAgEVAAAAAAAAANkAAAAAAAAA4QAAAAAAAADhAAAAAAAAAOkAAAAAAAAA4QAAAAAAAAC5AAAAAAAAARUAAAAAAAIBJQAAAAAAAgEVAAAAAAAAAP0AAAAAAAAAsQAAAAAAAAD9AAAAAAAAANUAAAAAAAAAqQAAAAAAAADJAAAAAAACAQUAAAAAAAAA0QAAAAAAAADJAAAAAAACAUEAAAAAAAAAzQAAAAAAAAC5AAAAAAAAANEAAAAAAAABBQAAAAAAAgEZAAAAAAACAQ0AAAAAAAIBAQAAAAAAAACxAAAAAAACAR0AAAAAAAAA8QAAAAAAAADFAAAAAAAAAMEAAAAAAAAAuQAAAAAAAgE5AAAAAAAAARUAAAAAAAAAQQAAAAAAAAChAAAAAAAAAM0AAAAAAAAA9QAAAAAAAgE1AAAAAAAAANEAAAAAAAIBRQAAAAAAAAAhAAAAAAAAARkAAAAAAAAA0QAAAAAAAADhAAAAAAAAAPEAAAAAAAAA4QAAAAAAAADlAAAAAAAAANEAAAAAAAABBQAAAAAAAADJAAAAAAAAANEAAAAAAAABJQAAAAAAAADdAAAAAAAAAPUAAAAAAAAAyQAAAAAAAADdAAAAAAACASUAAAAAAAABFQAAAAAAAADNAAAAAAAAANkAAAAAAAAA/QAAAAAAAADdAAAAAAAAANkAAAAAAAABEQAAAAAAAADlAAAAAAACAQEAAAAAAAAA1QAAAAAAAAEJAAAAAAAAANUAAAAAAAIBFQAAAAAAAAEFAAAAAAACAR0AAAAAAAAAzQAAAAAAAADpAAAAAAAAANkAAAAAAAAAAQAAAAAAAADJAAAAAAAAANkAAAAAAAABHQAAAAAAAADxAAAAAAAAAAAAAAAAAAAAIQAAAAAAAAChAAAAAAAAAAEAAAAAAAIBEQAAAAAAAACZAAAAAAACAREAAAAAAAAA/QAAAAAAAAChAAAAAAAAAMkAAAAAAAAA0QAAAAAAAgEpAAAAAAAAANUAAAAAAAAA3QAAAAAAAAEpAAAAAAAAAN0AAAAAAAABNQAAAAAAAgEBAAAAAAACAQ0AAAAAAAAA7QAAAAAAAAEJAAAAAAACAREAAAAAAAAA2QAAAAAAAADtAAAAAAAAAAAAAAAAAAAAxQAAAAAAAAE9AAAAAAAAALEAAAAAAAAA4QAAAAAAAgElAAAAAAACASEAAAAAAAAAmQAAAAAAAADFAAAAAAACAS0AAAAAAAAA9QAAAAAAAADNAAAAAAAAAN0AAAAAAAABAQAAAAAAAADtAAAAAAAAAOUAAAAAAAABJQAAAAAAAAEhAAAAAAAAAO0AAAAAAAAAzQAAAAAAAADJAAAAAAACAREAAAAAAAAAuQAAAAAAAAEFAAAAAAAAAN0AAAAAAAIBPQAAAAAAAAEVAAAAAAAAAM0AAAAAAAAAUQAAAAAAAAABAAAAAAAAALkAAAAAAAABAQAAAAAAAgEBAAAAAAAAAQ0AAAAAAAAA2QAAAAAAAAEBAAAAAAACASUAAAAAAAAA0QAAAAAAAAEBAAAAAAAAAHEAAAAAAAABBQAAAAAAAgEdAAAAAAAAANkAAAAAAAABDQAAAAAAAAAAAAAAAAAAAAAAAAAAAAAAAQAAAAAAAAEFAAAAAAAAAOEAAAAAAAAA3QAAAAAAAADRAAAAAAACAQEAAAAAAAAA+QAAAAAAAAEBAAAAAAAAAQkAAAAAAAAAuQAAAAAAAAE1AAAAAAAAAKkAAAAAAAAA4QAAAAAAAADRAAAAAAACAQ0AAAAAAAAAAAAAAAAAAACRAAAAAAAAAIkAAAAAAAAAmQAAAAAAAAEVAAAAAAAAAOUAAAAAAAAAUQAAAAAAAACpAAAAAAAAAPkAAAAAAAAAAAAAAAAAAAC5AAAAAAAAAAAAAAAAAAAAyQAAAAAAAADBAAAAAAAAAPEAAAAAAAIBBQAAAAAAAgE5AAAAAAAAAPEAAAAAAAAAyQAAAAAAAADdAAAAAAAAAN0AAAAAAAIBAQAAAAAAAACBAAAAAAAAAR0AAAAAAAAAzQAAAAAAAADxAAAAAAACAQ0AAAAAAAAAcQAAAAAAAAPA/AAAAAAAAO0AAAAAAAAA6QAAAAAAAADhAAAAAAAAAOkAAAAAAAAA7QAAAAAAAADJAAAAAAACATEAAAAAAAABCQAAAAAAAgEJAAAAAAAAAN0AAAAAAAAAwQAAAAAAAADpAAAAAAAAAOEAAAAAAAAA6QAAAAAAAAABAAAAAAACAQEAAAAAAAABAQAAAAAAAAAhAAAAAAAAAAEAAAAAAAAAYQAAAAAAAADFAAAAAAAAAMkAAAAAAAAA2QAAAAAAAACxAAAAAAAAANkAAAAAAAAA2QAAAAAAAADlAAAAAAAAARUAAAAAAAAAwQAAAAAAAAChAAAAAAAAALEAAAAAAAABCQAAAAAAAADhAAAAAAAAAEEAAAAAAAAAyQAAAAAAAADVAAAAAAAAAO0AAAAAAAAA8QAAAAAAAADBAAAAAAAAAEEAAAAAAAAAIQAAAAAAAADdAAAAAAACAQ0AAAAAAAAAyQAAAAAAAAEJAAAAAAAAARUAAAAAAAAA9QAAAAAAAADBAAAAAAAAAIEAAAAAAAAA0QAAAAAAAAENAAAAAAAAANkAAAAAAAAAzQAAAAAAAgEBAAAAAAAAANEAAAAAAAAAkQAAAAAAAADdAAAAAAAAAN0AAAAAAAIBKQAAAAAAAADJAAAAAAAAAOEAAAAAAAABBQAAAAAAAADhAAAAAAAAAN0AAAAAAAIBHQAAAAAAAAENAAAAAAAAANUAAAAAAAAA1QAAAAAAAAEJAAAAAAAAANkAAAAAAAAA4QAAAAAAAgExAAAAAAAAAREAAAAAAAAAIQAAAAAAAgEFAAAAAAAAAPEAAAAAAAAAUQAAAAAAAAPA/AAAAAAAAUEAAAAAAAAAuQAAAAAAAQFBAAAAAAAAAMEAAAAAAAABEQAAAAAAAAEFAAAAAAAAANUAAAAAAAAA0QAAAAAAAAABAAAAAAACASkAAAAAAAAAAAAAAAAAAAENAAAAAAAAAP0AAAAAAAAAcQAAAAAAAAChAAAAAAAAAAAAAAAAAAAAxQAAAAAAAgEtAAAAAAAAAAEAAAAAAAABAQAAAAAAAADBAAAAAAAAAAAAAAAAAAAAsQAAAAAAAgEFAAAAAAAAALEAAAAAAAABIQAAAAAAAADVAAAAAAAAAOUAAAAAAAABGQAAAAAAAgEdAAAAAAAAAOkAAAAAAAAAzQAAAAAAAgEFAAAAAAAAAS0AAAAAAAAAwQAAAAAAAgEJAAAAAAAAAMUAAAAAAAAAwQAAAAAAAADJAAAAAAAAAOEAAAAAAAIBEQAAAAAAAAC5AAAAAAAAAQkAAAAAAAAA3QAAAAAAAADNAAAAAAAAAN0AAAAAAAIBHQAAAAAAAAABAAAAAAAAAIEAAAAAAAAAAAAAAAAAAADJAAAAAAAAAOUAAAAAAAAAAAAAAAAAAADZAAAAAAAAANkAAAAAAAABKQAAAAAAAAD5AAAAAAAAAP0AAAAAAAAA7QAAAAAAAADJAAAAAAAAANEAAAAAAAAA7QAAAAAAAADhAAAAAAAAAOEAAAAAAAIBIQAAAAAAAADFAAAAAAACAQ0AAAAAAAAAUQAAAAAAAACRAAAAAAAAA8D8AAAAAAAAwQAAAAAAAgElAAAAAAAAAFEAAAAAAAAAAAAAAAAAAADRAAAAAAAAAAAAAAAAAAADwPwAAAAAAAERAAAAAAAAAAEAAAAAAAAA8QAAAAAAAACxAAAAAAAAAPEAAAAAAAAA4QAAAAAAAADJAAAAAAAAAM0AAAAAAAAAoQAAAAAAAADtAAAAAAAAANkAAAAAAAIBTQAAAAAAAADhAAAAAAAAAOkAAAAAAAAAwQAAAAAAAADxAAAAAAAAAMkAAAAAAAABAQAAAAAAAADVAAAAAAAAAO0AAAAAAAABAQAAAAAAAADdAAAAAAAAANkAAAAAAAAA/QAAAAAAAAAAAAAAAAAAAQEAAAAAAAAA0QAAAAAAAADRAAAAAAAAAQEAAAAAAAAAwQAAAAAAAADVAAAAAAAAAKEAAAAAAAAA1QAAAAAAAACpAAAAAAAAANUAAAAAAAABBQAAAAAAAAENAAAAAAACAQ0AAAAAAAAA/QAAAAAAAgERAAAAAAAAAO0AAAAAAAAA1QAAAAAAAAD5AAAAAAACAQUAAAAAAAAA7QAAAAAAAADhAAAAAAAAASUAAAAAAAABMQAAAAAAAADVAAAAAAAAAQ0AAAAAAAAA0QAAAAAAAgEdAAAAAAAAAOkAAAAAAAABBQAAAAAAAgEFAAAAAAAAAOEAAAAAAAABPQAAAAAAAADlAAAAAAAAANUAAAAAAAIBEQAAAAAAAAElAAAAAAAAANEAAAAAAAAAuQAAAAAAAADRAAAAAAACARUAAAAAAAABLQAAAAAAAAEZAAAAAAAAAQUAAAAAAAAAuQAAAAAAAADhAAAAAAAAAM0AAAAAAAAA9QAAAAAAAADJAAAAAAACATUAAAAAAAAA0QAAAAAAAADFAAAAAAACAR0AAAAAAAAA9QAAAAAAAAEhAAAAAAAAAPEAAAAAAAIBHQAAAAAAAAAAAAAAAAAAAAAAAAAAAAAA0QAAAAAAAgEFAAAAAAAAAMkAAAAAAAAA7QAAAAAAAADxAAAAAAACAQkAAAAAAAIBGQAAAAAAAADZAAAAAAAAAQEAAAAAAAIBLQAAAAAAAAD9AAAAAAAAASUAAAAAAAABHQAAAAAAAADhAAAAAAACAQkAAAAAAAAAUQAAAAAAAAD1AAAAAAAAALEAAAAAAAABAQAAAAAAAAEZAAAAAAACAQkAAAAAAAIBAQAAAAAAAADxAAAAAAAAAPEAAAAAAAAA1QAAAAAAAAD1AAAAAAAAAN0AAAAAAAABHQAAAAAAAAAAAAAAAAAAAOUAAAAAAAABLQAAAAAAAADRAAAAAAAAAMEAAAAAAAAAIQAAAAAAAABhAAAAAAACAQEAAAAAAAAA4QAAAAAAAgEdAAAAAAAAATkAAAAAAAIBIQAAAAAAAADdAAAAAAAAAIkAAAAAAAAAxQAAAAAAAAEVAAAAAAAAAAAAAAAAAAAA6QAAAAAAAAExAAAAAAAAAP0AAAAAAAABEQAAAAAAAAC5AAAAAAACAQ0AAAAAAAAA2QAAAAAAAAAhAAAAAAAAAQEAAAAAAAAAkQAAAAAAAAAAAAAAAAAAAIkAAAAAAAIBCQAAAAAAAAD9AAAAAAACARUAAAAAAAAAuQAAAAAAAgEhAAAAAAAAAAEAAAAAAAIBIQAAAAAAAAEBAAAAAAAAAQkAAAAAAAAA5QAAAAAAAAEpAAAAAAAAANkAAAAAAAIBBQAAAAAAAAD1AAAAAAAAALkAAAAAAAABIQAAAAAAAACJAAAAAAAAAOUAAAAAAAAAyQAAAAAAAADVAAAAAAAAAN0AAAAAAAAA6QAAAAAAAAEBAAAAAAAAAMEAAAAAAAAA5QAAAAAAAgENAAAAAAAAALkAAAAAAAAAwQAAAAAAAAD1AAAAAAACASEAAAAAAAAA9QAAAAAAAAD1AAAAAAACAQkAAAAAAAAA6QAAAAAAAADlAAAAAAAAAJkAAAAAAAAAQQAAAAAAAAEBAAAAAAAAALkAAAAAAAAAxQAAAAAAAADRAAAAAAAAAIEAAAAAAAAA2QAAAAAAAgFFAAAAAAAAAOUAAAAAAAAA5QAAAAAAAADNAAAAAAACAQUAAAAAAAIBCQAAAAAAAACpAAAAAAACARkAAAAAAAAA0QAAAAAAAAENAAAAAAAAAOEAAAAAAAAA2QAAAAAAAgERAAAAAAAAANUAAAAAAAAA7QAAAAAAAADhAAAAAAAAAQUAAAAAAAAA8QAAAAAAAAD1AAAAAAAAAMEAAAAAAAAA3QAAAAAAAADhAAAAAAAAAQkAAAAAAAAA1QAAAAAAAADpAAAAAAAAAP0AAAAAAAAA0QAAAAAAAgEBAAAAAAACAT0AAAAAAAAAUQAAAAAAAADRAAAAAAACASEAAAAAAAAAIQAAAAAAAACxAAAAAAACASUAAAAAAAAAwQAAAAAAAADVAAAAAAAAAOEAAAAAAAAA1QAAAAAAAACpAAAAAAAAASkAAAAAAAAAwQAAAAAAAADVAAAAAAACARkAAAAAAAAAAAAAAAAAAgE9AAAAAAAAA8D8AAAAAAABCQAAAAAAAACpAAAAAAAAAKkAAAAAAAIBCQAAAAAAAAEZAAAAAAAAAOkAAAAAAAAA4QAAAAAAAAPA/AAAAAACAT0AAAAAAAABAQAAAAAAAADhAAAAAAAAAQEAAAAAAAAAqQAAAAAAAgEFAAAAAAAAAN0AAAAAAAAA4QAAAAAAAADdAAAAAAAAAOEAAAAAAAAA6QAAAAAAAADFAAAAAAAAANEAAAAAAAAA2QAAAAAAAADdAAAAAAAAAMkAAAAAAAAAyQAAAAAAAADJAAAAAAAAASEAAAAAAAAAgQAAAAAAAgEhAAAAAAAAAPEAAAAAAAAA0QAAAAAAAAD9AAAAAAACAQkAAAAAAAAAzQAAAAAAAADJAAAAAAACASkAAAAAAAABDQAAAAAAAADJAAAAAAAAAPEAAAAAAAAAsQAAAAAAAADFAAAAAAACAQUAAAAAAAIBCQAAAAAAAADhAAAAAAAAAQ0AAAAAAAAA8QAAAAAAAAAAAAAAAAAAAMEAAAAAAAAA5QAAAAAAAgEJAAAAAAACATEAAAAAAAABBQAAAAAAAADZAAAAAAAAAPkAAAAAAAAAkQAAAAAAAADVAAAAAAAAALEAAAAAAAAA2QAAAAAAAADZAAAAAAAAAN0AAAAAAAAA+QAAAAAAAgEJAAAAAAAAAQkAAAAAAAAAqQAAAAAAAADZAAAAAAAAAQkAAAAAAAIBBQAAAAAAAgElAAAAAAACAREAAAAAAAAA6QAAAAAAAgENAAAAAAAAAMkAAAAAAAAA6QAAAAAAAgEdAAAAAAAAALEAAAAAAAIBDQAAAAAAAADBAAAAAAAAASUAAAAAAAAA2QAAAAAAAAC5AAAAAAAAATUAAAAAAAABEQAAAAAAAADdAAAAAAAAANUAAAAAAAAA9QAAAAAAAADRAAAAAAAAAOEAAAAAAAAA1QAAAAAAAAEVAAAAAAAAAREAAAAAAAIBFQAAAAAAAADRAAAAAAAAAM0AAAAAAAAAxQAAAAAAAAE9AAAAAAACAQkAAAAAAAAA5QAAAAAAAADhAAAAAAAAAM0AAAAAAAAA3QAAAAAAAADNAAAAAAACAREAAAAAAAAA+QAAAAAAAgEdAAAAAAAAANUAAAAAAAAAzQAAAAAAAADhAAAAAAAAARUAAAAAAAAA0QAAAAAAAADJAAAAAAAAAOUAAAAAAAAA0QAAAAAAAADdAAAAAAAAANUAAAAAAAABQQAAAAAAAADhAAAAAAAAAKkAAAAAAAAAmQAAAAAAAADZAAAAAAAAAR0AAAAAAAAA5QAAAAAAAACxAAAAAAACAT0AAAAAAAIBKQAAAAAAAADRAAAAAAAAAMkAAAAAAAAAzQAAAAAAAADNAAAAAAAAAGEAAAAAAAAAQQAAAAAAAgEJAAAAAAAAASkAAAAAAAAA5QAAAAAAAAE1AAAAAAAAARkAAAAAAAIBEQAAAAAAAADhAAAAAAACAREAAAAAAAAA3QAAAAAAAADJAAAAAAAAAMkAAAAAAAAAoQAAAAAAAAERAAAAAAAAAM0AAAAAAAIBBQAAAAAAAAD1AAAAAAAAAS0AAAAAAAAA2QAAAAAAAADJAAAAAAAAAOkAAAAAAAAAzQAAAAAAAADZAAAAAAAAALkAAAAAAAAAzQAAAAAAAACxAAAAAAAAAM0AAAAAAAAAsQAAAAAAAACxAAAAAAACARkAAAAAAAAA2QAAAAAAAAAAAAAAAAAAALkAAAAAAAAAyQAAAAAAAAEJAAAAAAADAUEAAAAAAAAAxQAAAAAAAADRAAAAAAAAAMkAAAAAAAAA/QAAAAAAAAERAAAAAAAAANUAAAAAAAAA9QAAAAAAAAEhAAAAAAAAAN0AAAAAAAAA1QAAAAAAAADFAAAAAAAAAOEAAAAAAAAA4QAAAAAAAAAAAAAAAAAAAHEAAAAAAAAAIQAAAAAAAADJAAAAAAAAAEEAAAAAAAAAwQAAAAAAAACRAAAAAAAAAPUAAAAAAAIBIQAAAAAAAAEVAAAAAAACAQEAAAAAAAIBKQAAAAAAAADxAAAAAAAAANEAAAAAAAAAAAAAAAAAAAAAAAAAAAAAAMEAAAAAAAAAAAAAAAAAAADJAAAAAAAAAO0AAAAAAAAAzQAAAAAAAADJAAAAAAAAAUEAAAAAAAIBKQAAAAAAAgEBAAAAAAAAANkAAAAAAAAAIQAAAAAAAADhAAAAAAACAT0AAAAAAAAAyQAAAAAAAADVAAAAAAAAAQEAAAAAAAAA3QAAAAAAAABRAAAAAAAAAOEAAAAAAAAA2QAAAAAAAACxAAAAAAAAANEAAAAAAAAAxQAAAAAAAADRAAAAAAAAALkAAAAAAAAA1QAAAAAAAgEBAAAAAAAAAKkAAAAAAAABDQAAAAAAAgEVAAAAAAAAAUEAAAAAAAABGQAAAAAAAAAhAAAAAAAAAM0AAAAAAAIBCQAAAAAAAADhAAAAAAAAAO0AAAAAAAAA7QAAAAAAAADZAAAAAAAAAOEAAAAAAAAAyQAAAAAAAADxAAAAAAAAAEEAAAAAAAAA3QAAAAAAAAABAAAAAAAAAOEAAAAAAAAA8QAAAAAAAADRAAAAAAAAAMkAAAAAAAIBFQAAAAAAAAEhAAAAAAAAAQUAAAAAAAAA2QAAAAAAAAC5AAAAAAAAANUAAAAAAAAAwQAAAAAAAAERAAAAAAAAAMUAAAAAAAIBCQAAAAAAAADFAAAAAAAAAQ0AAAAAAAAA5QAAAAAAAABhAAAAAAAAA8D8AAAAAAAAcQAAAAAAAADNAAAAAAACASEAAAAAAAAAyQAAAAAAAADlAAAAAAACAQEAAAAAAAAAkQAAAAAAAAENAAAAAAAAAOkAAAAAAAAAwQAAAAAAAAD1AAAAAAAAATUAAAAAAAAAxQAAAAAAAAABAAAAAAAAAPUAAAAAAAAA1QAAAAAAAQFFAAAAAAAAAREAAAAAAAADwPwAAAAAAADFAAAAAAACASEAAAAAAAAA3QAAAAAAAgENAAAAAAAAAOkAAAAAAAAA3QAAAAAAAADhAAAAAAACAR0AAAAAAAIBCQAAAAAAAADVAAAAAAACAQ0AAAAAAAAA8QAAAAAAAgERAAAAAAAAANUAAAAAAAAA7QAAAAAAAAERAAAAAAAAAOEAAAAAAAAA2QAAAAAAAADpAAAAAAAAAPUAAAAAAAAA1QAAAAAAAADJAAAAAAAAALEAAAAAAAAAqQAAAAAAAADhAAAAAAAAANkAAAAAAAAA5QAAAAAAAADVAAAAAAAAAOUAAAAAAAIBDQAAAAAAAACxAAAAAAAAANkAAAAAAAAAxQAAAAAAAgEFAAAAAAAAANkAAAAAAAAA6QAAAAAAAADhAAAAAAAAAQ0AAAAAAAAAuQAAAAAAAAEtAAAAAAAAANkAAAAAAAAA3QAAAAAAAQFJAAAAAAAAAKEAAAAAAAAA7QAAAAAAAAD9AAAAAAACASUAAAAAAAIBBQAAAAAAAACxAAAAAAAAANkAAAAAAAAA2QAAAAAAAAD5AAAAAAAAAAAAAAAAAAAAiQAAAAAAAADJAAAAAAAAAO0AAAAAAAAA9QAAAAAAAADRAAAAAAACASkAAAAAAAAAzQAAAAAAAADRAAAAAAAAANUAAAAAAAAAoQAAAAAAAADRAAAAAAAAAMkAAAAAAAAAzQAAAAAAAAD1AAAAAAAAAPkAAAAAAAAAyQAAAAAAAgEhAAAAAAADAUUAAAAAAAAAzQAAAAAAAADdAAAAAAAAANUAAAAAAAAAAQAAAAAAAgEZAAAAAAAAARkAAAAAAAAAQQAAAAAAAADhAAAAAAAAAO0AAAAAAAIBDQAAAAAAAADdAAAAAAAAAEEAAAAAAAAAAAAAAAAAAADJAAAAAAAAANEAAAAAAAAA5QAAAAAAAADhAAAAAAAAAQ0AAAAAAAAAyQAAAAAAAADRAAAAAAAAARUAAAAAAAAAAAAAAAAAAADJAAAAAAAAAOkAAAAAAAAAzQAAAAAAAAC5AAAAAAACASkAAAAAAAAAAAAAAAAAAgENAAAAAAACARkAAAAAAAAAkQAAAAAAAAPA/AAAAAAAAIkAAAAAAAAAyQAAAAAAAAD9AAAAAAAAAN0AAAAAAAABAQAAAAAAAADVAAAAAAAAANkAAAAAAAAA8QAAAAAAAAENAAAAAAAAAR0AAAAAAAAAyQAAAAAAAADJAAAAAAAAAEEAAAAAAAAAAAAAAAAAAADdAAAAAAAAAMkAAAAAAAAAyQAAAAAAAADJAAAAAAACASEAAAAAAAAAzQAAAAAAAADZAAAAAAAAAMkAAAAAAAIBMQAAAAAAAAD1AAAAAAAAAQEAAAAAAAAAyQAAAAAAAgEhAAAAAAAAAP0AAAAAAAAA7QAAAAAAAAC5AAAAAAACAQEAAAAAAAEBQQAAAAAAAADNAAAAAAAAAPkAAAAAAAIBCQAAAAAAAAC5AAAAAAAAAM0AAAAAAAAA0QAAAAAAAADNAAAAAAAAANUAAAAAAAAA0QAAAAAAAADJAAAAAAAAAO0AAAAAAAAA5QAAAAAAAAFJAAAAAAAAAHEAAAAAAAAA8QAAAAAAAACBAAAAAAAAAEEAAAAAAAABDQAAAAAAAADJAAAAAAAAAJEAAAAAAAAAzQAAAAAAAAEdAAAAAAAAAQEAAAAAAAABBQAAAAAAAgE5AAAAAAAAALEAAAAAAAAAyQAAAAAAAAAAAAAAAAAAAMUAAAAAAAAAYQAAAAAAAAD1AAAAAAAAAPkAAAAAAAAA1QAAAAAAAADVAAAAAAAAAMkAAAAAAAAAzQAAAAAAAADdAAAAAAACAS0AAAAAAAAA4QAAAAAAAADJAAAAAAAAANkAAAAAAAIBDQAAAAAAAADNAAAAAAAAALEAAAAAAAIBCQAAAAAAAADtAAAAAAAAAMkAAAAAAAAAzQAAAAAAAADNAAAAAAAAAOUAAAAAAAAAAQAAAAAAAAABAAAAAAAAAEEAAAAAAAIBIQAAAAAAAAEpAAAAAAAAANkAAAAAAAAAqQAAAAAAAADhAAAAAAAAAOUAAAAAAAAA5QAAAAAAAAEdAAAAAAAAACEAAAAAAAAAIQAAAAAAAAAhAAAAAAACATEAAAAAAAAAmQAAAAAAAADRAAAAAAAAAO0AAAAAAAAAsQAAAAAAAADhAAAAAAAAANUAAAAAAAAA2QAAAAAAAAC5AAAAAAACAQkAAAAAAAABBQAAAAAAAADNAAAAAAAAASkAAAAAAAAAuQAAAAAAAADhAAAAAAACARkAAAAAAAAAzQAAAAAAAADRAAAAAAAAANEAAAAAAAAA7QAAAAAAAADZAAAAAAAAAMUAAAAAAAAA3QAAAAAAAAD1AAAAAAAAAQkAAAAAAAAA5QAAAAAAAADBAAAAAAAAASEAAAAAAAAA5QAAAAAAAADNAAAAAAACARUAAAAAAAIBDQAAAAAAAADVAAAAAAAAAOEAAAAAAAAA1QAAAAAAAACxAAAAAAAAAN0AAAAAAAABMQAAAAAAAADdAAAAAAACASEAAAAAAAABDQAAAAAAAgEdAAAAAAAAAM0AAAAAAAAA8QAAAAAAAADZAAAAAAAAARkAAAAAAAAA2QAAAAAAAADJAAAAAAACARUAAAAAAAIBJQAAAAAAAAEhAAAAAAAAANUAAAAAAAAA3QAAAAAAAADhAAAAAAAAALkAAAAAAAAAyQAAAAAAAAE1AAAAAAAAAMkAAAAAAAAA2QAAAAAAAADNAAAAAAAAAMkAAAAAAAAA1QAAAAAAAADZAAAAAAACAQkAAAAAAAAA3QAAAAAAAgENAAAAAAAAALEAAAAAAAAAIQAAAAAAAADJAAAAAAAAAOEAAAAAAAAA6QAAAAAAAADVAAAAAAAAAO0AAAAAAAAAuQAAAAAAAADhAAAAAAAAASUAAAAAAAAAqQAAAAAAAADVAAAAAAAAAR0AAAAAAAAA6QAAAAAAAgEhAAAAAAAAAPEAAAAAAAABDQAAAAAAAADJAAAAAAAAANkAAAAAAAAAQQAAAAAAAAAhAAAAAAAAANEAAAAAAAAA7QAAAAAAAAD1AAAAAAAAAN0AAAAAAAAAuQAAAAAAAAElAAAAAAACAQUAAAAAAAAAzQAAAAAAAADNAAAAAAAAALEAAAAAAAABEQAAAAAAAAD9AAAAAAAAAIEAAAAAAAIBLQAAAAAAAADBAAAAAAAAAREAAAAAAAABFQAAAAAAAADJAAAAAAAAANUAAAAAAAAAyQAAAAAAAADtAAAAAAAAAKkAAAAAAAAAkQAAAAAAAACBAAAAAAAAARkAAAAAAAAA8QAAAAAAAAEJAAAAAAAAANEAAAAAAAABDQAAAAAAAADdAAAAAAAAAQ0AAAAAAAAA8QAAAAAAAgEtAAAAAAAAAN0AAAAAAAABDQAAAAAAAADJAAAAAAAAAQEAAAAAAAABPQAAAAAAAADNAAAAAAAAANEAAAAAAAIBKQAAAAAAAADJAAAAAAAAAOEAAAAAAAAA7QAAAAAAAAENAAAAAAAAAN0AAAAAAAAA8QAAAAAAAAD5AAAAAAAAAGEAAAAAAAAAAAAAAAAAAgEJAAAAAAAAALkAAAAAAAAAAAAAAAAAAADFAAAAAAAAATUAAAAAAAAA4QAAAAAAAAERAAAAAAAAAPkAAAAAAAAA0QAAAAAAAABBAAAAAAAAAEEAAAAAAAAA3QAAAAAAAADRAAAAAAAAANkAAAAAAAAAYQAAAAAAAACxAAAAAAAAAEEAAAAAAAIBCQAAAAAAAACxAAAAAAAAAQUAAAAAAAAAIQAAAAAAAADJAAAAAAAAAO0AAAAAAAAAzQAAAAAAAgEJAAAAAAACAQkAAAAAAAAA2QAAAAAAAAENAAAAAAAAAOEAAAAAAAIBPQAAAAAAAADRAAAAAAAAAM0AAAAAAAAA8QAAAAAAAAEZAAAAAAAAAKkAAAAAAAIBGQAAAAAAAAD1AAAAAAAAANUAAAAAAAIBCQAAAAAAAAC5AAAAAAAAARUAAAAAAAAA6QAAAAAAAADNAAAAAAAAASUAAAAAAAAAzQAAAAAAAADRAAAAAAAAAN0AAAAAAAAA4QAAAAAAAAChAAAAAAAAAPEAAAAAAAAA4QAAAAAAAADhAAAAAAACAQ0AAAAAAAAA/QAAAAAAAgEBAAAAAAAAANkAAAAAAAABBQAAAAAAAADpAAAAAAAAATUAAAAAAAAAQQAAAAAAAAPA/AAAAAAAAO0AAAAAAAAA4QAAAAAAAADBAAAAAAAAAPEAAAAAAAAA4QAAAAAAAABhAAAAAAAAAM0AAAAAAAAAzQAAAAAAAADJAAAAAAACAQUAAAAAAAAA4QAAAAAAAgEBAAAAAAAAANEAAAAAAAAA8QAAAAAAAADNAAAAAAAAAN0AAAAAAAAA3QAAAAAAAADhAAAAAAAAAMkAAAAAAAEBSQAAAAAAAAD9AAAAAAAAAOUAAAAAAAAA4QAAAAAAAADVAAAAAAAAANkAAAAAAAIBDQAAAAAAAADpAAAAAAAAAHEAAAAAAAAAQQAAAAAAAAChAAAAAAAAAMkAAAAAAAAAqQAAAAAAAgEFAAAAAAACAQUAAAAAAAAA9QAAAAAAAgEdAAAAAAAAANkAAAAAAAAA2QAAAAAAAAAAAAAAAAAAAPkAAAAAAAIBKQAAAAAAAACJAAAAAAAAAPkAAAAAAAIBEQAAAAAAAAC5AAAAAAAAAMkAAAAAAAAA/QAAAAAAAADlAAAAAAAAAM0AAAAAAAIBGQAAAAAAAADVAAAAAAAAASEAAAAAAAAAAAAAAAAAAADdAAAAAAAAASEAAAAAAAAAyQAAAAAAAADZAAAAAAAAAPEAAAAAAAIBDQAAAAAAAADVAAAAAAAAAS0AAAAAAAABCQAAAAAAAgEBAAAAAAAAAMEAAAAAAAAA8QAAAAAAAAEVAAAAAAAAAPkAAAAAAAAA2QAAAAAAAADtAAAAAAAAAO0AAAAAAAAAkQAAAAAAAAABAAAAAAAAAFEAAAAAAAAA4QAAAAAAAADZAAAAAAAAANkAAAAAAAABGQAAAAAAAgEtAAAAAAAAANkAAAAAAAAAgQAAAAAAAAC5AAAAAAAAASEAAAAAAAAA7QAAAAAAAAAhAAAAAAAAARUAAAAAAAAAsQAAAAAAAgEVAAAAAAAAANUAAAAAAAABAQAAAAAAAADlAAAAAAAAAQ0AAAAAAAABCQAAAAAAAAEZAAAAAAACAQkAAAAAAAIBHQAAAAAAAgEpAAAAAAAAAKkAAAAAAAABQQAAAAAAAADBAAAAAAAAAKkAAAAAAAAA6QAAAAAAAAEJAAAAAAACAQEAAAAAAAAA1QAAAAAAAACpAAAAAAAAAM0AAAAAAAAAyQAAAAAAAADZAAAAAAAAAQUAAAAAAAAAmQAAAAAAAgEZAAAAAAACAQ0AAAAAAAABCQAAAAAAAAPA/AAAAAAAAJEAAAAAAAAAoQAAAAAAAAD9AAAAAAAAAKEAAAAAAAAAIQAAAAAAAgERAAAAAAAAAM0AAAAAAAABDQAAAAAAAAAAAAAAAAAAAN0AAAAAAAIBBQAAAAAAAAEtAAAAAAACAQEAAAAAAAABLQAAAAAAAADhAAAAAAACASkAAAAAAAAA6QAAAAAAAAD9AAAAAAACAQ0AAAAAAAIBBQAAAAAAAADxAAAAAAACARUAAAAAAAAA4QAAAAAAAADJAAAAAAAAANUAAAAAAAAA+QAAAAAAAAERAAAAAAAAAOEAAAAAAAAA/QAAAAAAAACJAAAAAAACASUAAAAAAAAA5QAAAAAAAADRAAAAAAACARkAAAAAAAAAcQAAAAAAAACZAAAAAAAAA8D8AAAAAAAAAAAAAAAAAgEhAAAAAAAAAPkAAAAAAAIBCQAAAAAAAAE9AAAAAAAAAKkAAAAAAAAAwQAAAAAAAgE5AAAAAAAAAPEAAAAAAAAA2QAAAAAAAAD9AAAAAAACAQEAAAAAAAAA6QAAAAAAAADVAAAAAAAAAMkAAAAAAAAA6QA==",
          "dtype": "f8"
         },
         "xaxis": "x",
         "yaxis": "y"
        },
        {
         "bingroup": "x",
         "hovertemplate": "HomePlanet=Mars<br>Edad=%{x}<br>count=%{y}<extra></extra>",
         "legendgroup": "Mars",
         "marker": {
          "color": "#00cc96",
          "opacity": 0.5,
          "pattern": {
           "shape": ""
          }
         },
         "name": "Mars",
         "nbinsx": 100,
         "orientation": "v",
         "showlegend": true,
         "type": "histogram",
         "x": {
          "bdata": "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",
          "dtype": "f8"
         },
         "xaxis": "x",
         "yaxis": "y"
        }
       ],
       "layout": {
        "barmode": "relative",
        "height": 600,
        "legend": {
         "title": {
          "text": "HomePlanet"
         },
         "tracegroupgap": 0
        },
        "template": {
         "data": {
          "bar": [
           {
            "error_x": {
             "color": "#f2f5fa"
            },
            "error_y": {
             "color": "#f2f5fa"
            },
            "marker": {
             "line": {
              "color": "rgb(17,17,17)",
              "width": 0.5
             },
             "pattern": {
              "fillmode": "overlay",
              "size": 10,
              "solidity": 0.2
             }
            },
            "type": "bar"
           }
          ],
          "barpolar": [
           {
            "marker": {
             "line": {
              "color": "rgb(17,17,17)",
              "width": 0.5
             },
             "pattern": {
              "fillmode": "overlay",
              "size": 10,
              "solidity": 0.2
             }
            },
            "type": "barpolar"
           }
          ],
          "carpet": [
           {
            "aaxis": {
             "endlinecolor": "#A2B1C6",
             "gridcolor": "#506784",
             "linecolor": "#506784",
             "minorgridcolor": "#506784",
             "startlinecolor": "#A2B1C6"
            },
            "baxis": {
             "endlinecolor": "#A2B1C6",
             "gridcolor": "#506784",
             "linecolor": "#506784",
             "minorgridcolor": "#506784",
             "startlinecolor": "#A2B1C6"
            },
            "type": "carpet"
           }
          ],
          "choropleth": [
           {
            "colorbar": {
             "outlinewidth": 0,
             "ticks": ""
            },
            "type": "choropleth"
           }
          ],
          "contour": [
           {
            "colorbar": {
             "outlinewidth": 0,
             "ticks": ""
            },
            "colorscale": [
             [
              0,
              "#0d0887"
             ],
             [
              0.1111111111111111,
              "#46039f"
             ],
             [
              0.2222222222222222,
              "#7201a8"
             ],
             [
              0.3333333333333333,
              "#9c179e"
             ],
             [
              0.4444444444444444,
              "#bd3786"
             ],
             [
              0.5555555555555556,
              "#d8576b"
             ],
             [
              0.6666666666666666,
              "#ed7953"
             ],
             [
              0.7777777777777778,
              "#fb9f3a"
             ],
             [
              0.8888888888888888,
              "#fdca26"
             ],
             [
              1,
              "#f0f921"
             ]
            ],
            "type": "contour"
           }
          ],
          "contourcarpet": [
           {
            "colorbar": {
             "outlinewidth": 0,
             "ticks": ""
            },
            "type": "contourcarpet"
           }
          ],
          "heatmap": [
           {
            "colorbar": {
             "outlinewidth": 0,
             "ticks": ""
            },
            "colorscale": [
             [
              0,
              "#0d0887"
             ],
             [
              0.1111111111111111,
              "#46039f"
             ],
             [
              0.2222222222222222,
              "#7201a8"
             ],
             [
              0.3333333333333333,
              "#9c179e"
             ],
             [
              0.4444444444444444,
              "#bd3786"
             ],
             [
              0.5555555555555556,
              "#d8576b"
             ],
             [
              0.6666666666666666,
              "#ed7953"
             ],
             [
              0.7777777777777778,
              "#fb9f3a"
             ],
             [
              0.8888888888888888,
              "#fdca26"
             ],
             [
              1,
              "#f0f921"
             ]
            ],
            "type": "heatmap"
           }
          ],
          "histogram": [
           {
            "marker": {
             "pattern": {
              "fillmode": "overlay",
              "size": 10,
              "solidity": 0.2
             }
            },
            "type": "histogram"
           }
          ],
          "histogram2d": [
           {
            "colorbar": {
             "outlinewidth": 0,
             "ticks": ""
            },
            "colorscale": [
             [
              0,
              "#0d0887"
             ],
             [
              0.1111111111111111,
              "#46039f"
             ],
             [
              0.2222222222222222,
              "#7201a8"
             ],
             [
              0.3333333333333333,
              "#9c179e"
             ],
             [
              0.4444444444444444,
              "#bd3786"
             ],
             [
              0.5555555555555556,
              "#d8576b"
             ],
             [
              0.6666666666666666,
              "#ed7953"
             ],
             [
              0.7777777777777778,
              "#fb9f3a"
             ],
             [
              0.8888888888888888,
              "#fdca26"
             ],
             [
              1,
              "#f0f921"
             ]
            ],
            "type": "histogram2d"
           }
          ],
          "histogram2dcontour": [
           {
            "colorbar": {
             "outlinewidth": 0,
             "ticks": ""
            },
            "colorscale": [
             [
              0,
              "#0d0887"
             ],
             [
              0.1111111111111111,
              "#46039f"
             ],
             [
              0.2222222222222222,
              "#7201a8"
             ],
             [
              0.3333333333333333,
              "#9c179e"
             ],
             [
              0.4444444444444444,
              "#bd3786"
             ],
             [
              0.5555555555555556,
              "#d8576b"
             ],
             [
              0.6666666666666666,
              "#ed7953"
             ],
             [
              0.7777777777777778,
              "#fb9f3a"
             ],
             [
              0.8888888888888888,
              "#fdca26"
             ],
             [
              1,
              "#f0f921"
             ]
            ],
            "type": "histogram2dcontour"
           }
          ],
          "mesh3d": [
           {
            "colorbar": {
             "outlinewidth": 0,
             "ticks": ""
            },
            "type": "mesh3d"
           }
          ],
          "parcoords": [
           {
            "line": {
             "colorbar": {
              "outlinewidth": 0,
              "ticks": ""
             }
            },
            "type": "parcoords"
           }
          ],
          "pie": [
           {
            "automargin": true,
            "type": "pie"
           }
          ],
          "scatter": [
           {
            "marker": {
             "line": {
              "color": "#283442"
             }
            },
            "type": "scatter"
           }
          ],
          "scatter3d": [
           {
            "line": {
             "colorbar": {
              "outlinewidth": 0,
              "ticks": ""
             }
            },
            "marker": {
             "colorbar": {
              "outlinewidth": 0,
              "ticks": ""
             }
            },
            "type": "scatter3d"
           }
          ],
          "scattercarpet": [
           {
            "marker": {
             "colorbar": {
              "outlinewidth": 0,
              "ticks": ""
             }
            },
            "type": "scattercarpet"
           }
          ],
          "scattergeo": [
           {
            "marker": {
             "colorbar": {
              "outlinewidth": 0,
              "ticks": ""
             }
            },
            "type": "scattergeo"
           }
          ],
          "scattergl": [
           {
            "marker": {
             "line": {
              "color": "#283442"
             }
            },
            "type": "scattergl"
           }
          ],
          "scattermap": [
           {
            "marker": {
             "colorbar": {
              "outlinewidth": 0,
              "ticks": ""
             }
            },
            "type": "scattermap"
           }
          ],
          "scattermapbox": [
           {
            "marker": {
             "colorbar": {
              "outlinewidth": 0,
              "ticks": ""
             }
            },
            "type": "scattermapbox"
           }
          ],
          "scatterpolar": [
           {
            "marker": {
             "colorbar": {
              "outlinewidth": 0,
              "ticks": ""
             }
            },
            "type": "scatterpolar"
           }
          ],
          "scatterpolargl": [
           {
            "marker": {
             "colorbar": {
              "outlinewidth": 0,
              "ticks": ""
             }
            },
            "type": "scatterpolargl"
           }
          ],
          "scatterternary": [
           {
            "marker": {
             "colorbar": {
              "outlinewidth": 0,
              "ticks": ""
             }
            },
            "type": "scatterternary"
           }
          ],
          "surface": [
           {
            "colorbar": {
             "outlinewidth": 0,
             "ticks": ""
            },
            "colorscale": [
             [
              0,
              "#0d0887"
             ],
             [
              0.1111111111111111,
              "#46039f"
             ],
             [
              0.2222222222222222,
              "#7201a8"
             ],
             [
              0.3333333333333333,
              "#9c179e"
             ],
             [
              0.4444444444444444,
              "#bd3786"
             ],
             [
              0.5555555555555556,
              "#d8576b"
             ],
             [
              0.6666666666666666,
              "#ed7953"
             ],
             [
              0.7777777777777778,
              "#fb9f3a"
             ],
             [
              0.8888888888888888,
              "#fdca26"
             ],
             [
              1,
              "#f0f921"
             ]
            ],
            "type": "surface"
           }
          ],
          "table": [
           {
            "cells": {
             "fill": {
              "color": "#506784"
             },
             "line": {
              "color": "rgb(17,17,17)"
             }
            },
            "header": {
             "fill": {
              "color": "#2a3f5f"
             },
             "line": {
              "color": "rgb(17,17,17)"
             }
            },
            "type": "table"
           }
          ]
         },
         "layout": {
          "annotationdefaults": {
           "arrowcolor": "#f2f5fa",
           "arrowhead": 0,
           "arrowwidth": 1
          },
          "autotypenumbers": "strict",
          "coloraxis": {
           "colorbar": {
            "outlinewidth": 0,
            "ticks": ""
           }
          },
          "colorscale": {
           "diverging": [
            [
             0,
             "#8e0152"
            ],
            [
             0.1,
             "#c51b7d"
            ],
            [
             0.2,
             "#de77ae"
            ],
            [
             0.3,
             "#f1b6da"
            ],
            [
             0.4,
             "#fde0ef"
            ],
            [
             0.5,
             "#f7f7f7"
            ],
            [
             0.6,
             "#e6f5d0"
            ],
            [
             0.7,
             "#b8e186"
            ],
            [
             0.8,
             "#7fbc41"
            ],
            [
             0.9,
             "#4d9221"
            ],
            [
             1,
             "#276419"
            ]
           ],
           "sequential": [
            [
             0,
             "#0d0887"
            ],
            [
             0.1111111111111111,
             "#46039f"
            ],
            [
             0.2222222222222222,
             "#7201a8"
            ],
            [
             0.3333333333333333,
             "#9c179e"
            ],
            [
             0.4444444444444444,
             "#bd3786"
            ],
            [
             0.5555555555555556,
             "#d8576b"
            ],
            [
             0.6666666666666666,
             "#ed7953"
            ],
            [
             0.7777777777777778,
             "#fb9f3a"
            ],
            [
             0.8888888888888888,
             "#fdca26"
            ],
            [
             1,
             "#f0f921"
            ]
           ],
           "sequentialminus": [
            [
             0,
             "#0d0887"
            ],
            [
             0.1111111111111111,
             "#46039f"
            ],
            [
             0.2222222222222222,
             "#7201a8"
            ],
            [
             0.3333333333333333,
             "#9c179e"
            ],
            [
             0.4444444444444444,
             "#bd3786"
            ],
            [
             0.5555555555555556,
             "#d8576b"
            ],
            [
             0.6666666666666666,
             "#ed7953"
            ],
            [
             0.7777777777777778,
             "#fb9f3a"
            ],
            [
             0.8888888888888888,
             "#fdca26"
            ],
            [
             1,
             "#f0f921"
            ]
           ]
          },
          "colorway": [
           "#636efa",
           "#EF553B",
           "#00cc96",
           "#ab63fa",
           "#FFA15A",
           "#19d3f3",
           "#FF6692",
           "#B6E880",
           "#FF97FF",
           "#FECB52"
          ],
          "font": {
           "color": "#f2f5fa"
          },
          "geo": {
           "bgcolor": "rgb(17,17,17)",
           "lakecolor": "rgb(17,17,17)",
           "landcolor": "rgb(17,17,17)",
           "showlakes": true,
           "showland": true,
           "subunitcolor": "#506784"
          },
          "hoverlabel": {
           "align": "left"
          },
          "hovermode": "closest",
          "mapbox": {
           "style": "dark"
          },
          "paper_bgcolor": "rgb(17,17,17)",
          "plot_bgcolor": "rgb(17,17,17)",
          "polar": {
           "angularaxis": {
            "gridcolor": "#506784",
            "linecolor": "#506784",
            "ticks": ""
           },
           "bgcolor": "rgb(17,17,17)",
           "radialaxis": {
            "gridcolor": "#506784",
            "linecolor": "#506784",
            "ticks": ""
           }
          },
          "scene": {
           "xaxis": {
            "backgroundcolor": "rgb(17,17,17)",
            "gridcolor": "#506784",
            "gridwidth": 2,
            "linecolor": "#506784",
            "showbackground": true,
            "ticks": "",
            "zerolinecolor": "#C8D4E3"
           },
           "yaxis": {
            "backgroundcolor": "rgb(17,17,17)",
            "gridcolor": "#506784",
            "gridwidth": 2,
            "linecolor": "#506784",
            "showbackground": true,
            "ticks": "",
            "zerolinecolor": "#C8D4E3"
           },
           "zaxis": {
            "backgroundcolor": "rgb(17,17,17)",
            "gridcolor": "#506784",
            "gridwidth": 2,
            "linecolor": "#506784",
            "showbackground": true,
            "ticks": "",
            "zerolinecolor": "#C8D4E3"
           }
          },
          "shapedefaults": {
           "line": {
            "color": "#f2f5fa"
           }
          },
          "sliderdefaults": {
           "bgcolor": "#C8D4E3",
           "bordercolor": "rgb(17,17,17)",
           "borderwidth": 1,
           "tickwidth": 0
          },
          "ternary": {
           "aaxis": {
            "gridcolor": "#506784",
            "linecolor": "#506784",
            "ticks": ""
           },
           "baxis": {
            "gridcolor": "#506784",
            "linecolor": "#506784",
            "ticks": ""
           },
           "bgcolor": "rgb(17,17,17)",
           "caxis": {
            "gridcolor": "#506784",
            "linecolor": "#506784",
            "ticks": ""
           }
          },
          "title": {
           "x": 0.05
          },
          "updatemenudefaults": {
           "bgcolor": "#506784",
           "borderwidth": 0
          },
          "xaxis": {
           "automargin": true,
           "gridcolor": "#283442",
           "linecolor": "#506784",
           "ticks": "",
           "title": {
            "standoff": 15
           },
           "zerolinecolor": "#283442",
           "zerolinewidth": 2
          },
          "yaxis": {
           "automargin": true,
           "gridcolor": "#283442",
           "linecolor": "#506784",
           "ticks": "",
           "title": {
            "standoff": 15
           },
           "zerolinecolor": "#283442",
           "zerolinewidth": 2
          }
         }
        },
        "title": {
         "text": "Histograma Edad"
        },
        "width": 800,
        "xaxis": {
         "anchor": "y",
         "domain": [
          0,
          1
         ],
         "title": {
          "text": "Edad"
         }
        },
        "yaxis": {
         "anchor": "x",
         "domain": [
          0,
          1
         ],
         "title": {
          "text": "count"
         }
        }
       }
      }
     },
     "metadata": {},
     "output_type": "display_data"
    },
    {
     "name": "stdout",
     "output_type": "stream",
     "text": [
      "count    6606.000000\n",
      "mean       28.894036\n",
      "std        14.533429\n",
      "min         0.000000\n",
      "25%        19.000000\n",
      "50%        27.000000\n",
      "75%        38.000000\n",
      "max        79.000000\n",
      "Name: Age, dtype: float64\n",
      "27.0\n"
     ]
    }
   ],
   "source": [
    "import plotly.express as px\n",
    "\n",
    "fig = px.histogram(train_df,x='Age',nbins=100,color=\"HomePlanet\",barmode=\"relative\",opacity=0.5,labels={'Age':'Edad','count':'Cantidad'},title='Histograma Edad',template='plotly_dark')\n",
    "\n",
    "fig.update_layout(width=800,height = 600)\n",
    "fig.show()\n",
    "\n",
    "print(train_df['Age'].describe())\n",
    "print(train_df['Age'].median())"
   ]
  },
  {
   "cell_type": "code",
   "execution_count": 114,
   "metadata": {},
   "outputs": [
    {
     "name": "stdout",
     "output_type": "stream",
     "text": [
      "--- Entrenando LogisticRegression ---\n",
      "Finalizado en 0.60 segundos.\n",
      "\n",
      "--- Entrenando RandomForestClassifier ---\n",
      "Finalizado en 5.88 segundos.\n",
      "\n",
      "--- Entrenando GradientBoostingClassifier ---\n",
      "Finalizado en 9.22 segundos.\n",
      "\n",
      "--- Entrenando KNeighborsClassifier ---\n",
      "Finalizado en 0.41 segundos.\n",
      "\n",
      "--- Entrenando DecisionTreeClassifier ---\n",
      "Finalizado en 0.32 segundos.\n",
      "\n",
      "--- Entrenando XGBClassifier ---\n"
     ]
    },
    {
     "name": "stderr",
     "output_type": "stream",
     "text": [
      "c:\\Users\\Danie\\AppData\\Local\\Programs\\Python\\Python311\\Lib\\site-packages\\xgboost\\core.py:158: UserWarning:\n",
      "\n",
      "[04:52:54] WARNING: C:\\buildkite-agent\\builds\\buildkite-windows-cpu-autoscaling-group-i-0c55ff5f71b100e98-1\\xgboost\\xgboost-ci-windows\\src\\learner.cc:740: \n",
      "Parameters: { \"use_label_encoder\" } are not used.\n",
      "\n",
      "\n"
     ]
    },
    {
     "name": "stdout",
     "output_type": "stream",
     "text": [
      "Finalizado en 3.53 segundos.\n",
      "\n",
      "--- Comparación de Modelos ---\n",
      "                        Model  Best Score (CV)  Test Accuracy  \\\n",
      "0               XGBClassifier         0.810328       0.794135   \n",
      "1  GradientBoostingClassifier         0.804145       0.791834   \n",
      "2      RandomForestClassifier         0.804862       0.789534   \n",
      "3          LogisticRegression         0.795515       0.786659   \n",
      "4      DecisionTreeClassifier         0.778400       0.759632   \n",
      "5        KNeighborsClassifier         0.708371       0.705578   \n",
      "\n",
      "                                         Best Params  Time (s)  \n",
      "0  {'learning_rate': 0.05, 'max_depth': 5, 'n_est...  3.531867  \n",
      "1        {'learning_rate': 0.1, 'n_estimators': 300}  9.221989  \n",
      "2             {'max_depth': 10, 'n_estimators': 200}  5.876925  \n",
      "3                       {'C': 10.0, 'penalty': 'l1'}  0.596050  \n",
      "4                                  {'max_depth': 10}  0.315117  \n",
      "5                                 {'n_neighbors': 7}  0.411973  \n",
      "\n",
      "--- Mejor Modelo ---\n",
      "Model                                                  XGBClassifier\n",
      "Best Score (CV)                                             0.810328\n",
      "Test Accuracy                                               0.794135\n",
      "Best Params        {'learning_rate': 0.05, 'max_depth': 5, 'n_est...\n",
      "Time (s)                                                    3.531867\n",
      "Name: 0, dtype: object\n"
     ]
    }
   ],
   "source": [
    "\n",
    "from sklearn.linear_model import LogisticRegression\n",
    "from sklearn.ensemble import RandomForestClassifier, GradientBoostingClassifier\n",
    "from sklearn.tree import DecisionTreeClassifier\n",
    "from sklearn.svm import SVC\n",
    "from sklearn.neighbors import KNeighborsClassifier\n",
    "from xgboost import XGBClassifier\n",
    "from sklearn.model_selection import train_test_split, GridSearchCV\n",
    "from sklearn.metrics import accuracy_score\n",
    "import pandas as pd\n",
    "import time\n",
    "\n",
    "# 1. Dividir los datos en conjuntos de entrenamiento y prueba\n",
    "# Asumimos que 'df_final' es tu X y 'y' es tu variable objetivo\n",
    "X_train, X_test, y_train, y_test = train_test_split(X_train, y_train, test_size=0.2, random_state=42)\n",
    "\n",
    "models = {\n",
    "    'LogisticRegression': LogisticRegression(max_iter=1000, solver='liblinear'),\n",
    "    'RandomForestClassifier': RandomForestClassifier(random_state=42),\n",
    "    'GradientBoostingClassifier': GradientBoostingClassifier(random_state=42),\n",
    "    #'SVC': SVC(random_state=42, probability=True),\n",
    "    'KNeighborsClassifier': KNeighborsClassifier(),\n",
    "    'DecisionTreeClassifier': DecisionTreeClassifier(random_state=42),\n",
    "    'XGBClassifier': XGBClassifier(random_state=42, use_label_encoder=False, eval_metric='logloss')\n",
    "}\n",
    "\n",
    "params = {\n",
    "    'LogisticRegression': {'C': [0.1, 1.0, 10.0], 'penalty': ['l1', 'l2']},\n",
    "    'RandomForestClassifier': {'n_estimators': [100, 200], 'max_depth': [10, 20, None]},\n",
    "    'GradientBoostingClassifier': {'n_estimators': [100, 300], 'learning_rate': [0.05, 0.1]},\n",
    "    'SVC': {'C': [0.1, 1, 10], 'kernel': ['rbf', 'linear']},\n",
    "    'KNeighborsClassifier': {'n_neighbors': [3, 5, 7]},\n",
    "    'DecisionTreeClassifier': {'max_depth': [10, 20, 30, None]},\n",
    "    'XGBClassifier': {'n_estimators': [100, 300], 'learning_rate': [0.05, 0.1], 'max_depth': [3, 5, 7]}\n",
    "}\n",
    "\n",
    "# 3. Entrenar y evaluar cada modelo\n",
    "results = []\n",
    "for model_name, model in models.items():\n",
    "    print(f\"--- Entrenando {model_name} ---\")\n",
    "    start_time = time.time()\n",
    "    \n",
    "    grid_search = GridSearchCV(model, params[model_name], cv=10, scoring='accuracy', n_jobs=-1, verbose=0)\n",
    "    grid_search.fit(X_train, y_train)\n",
    "    \n",
    "    accuracy = grid_search.best_estimator_.score(X_test, y_test)\n",
    "    duration = time.time() - start_time\n",
    "    \n",
    "    results.append({\n",
    "        'Model': model_name,\n",
    "        'Best Score (CV)': grid_search.best_score_,\n",
    "        'Test Accuracy': accuracy,\n",
    "        'Best Params': grid_search.best_params_,\n",
    "        'Time (s)': duration\n",
    "    })\n",
    "    print(f\"Finalizado en {duration:.2f} segundos.\\n\")\n",
    "\n",
    "# 4. Mostrar los resultados\n",
    "results_df = pd.DataFrame(results).sort_values(by='Test Accuracy', ascending=False).reset_index(drop=True)\n",
    "print(\"--- Comparación de Modelos ---\")\n",
    "print(results_df)\n",
    "results_df.to_csv('results_df.csv')\n",
    "\n",
    "print(\"\\n--- Mejor Modelo ---\")\n",
    "print(results_df.iloc[0])"
   ]
  },
  {
   "cell_type": "code",
   "execution_count": 34,
   "metadata": {},
   "outputs": [],
   "source": [
    "from sklearn.ensemble import RandomForestClassifier\n",
    "\n",
    "\n",
    "model_rfc = RandomForestClassifier(max_depth = 10, n_estimators = 200)\n",
    "\n",
    "model_rfc.fit(X_train,y_train)\n",
    "\n",
    "y_predicted = model_rfc.predict(X_test)\n"
   ]
  },
  {
   "cell_type": "code",
   "execution_count": 114,
   "metadata": {},
   "outputs": [],
   "source": [
    "from sklearn.linear_model import LogisticRegression\n",
    "\n",
    "model_log = LogisticRegression(C=10.0, penalty='l1', solver='liblinear')\n",
    "\n",
    "model_log.fit(X_train,y_train)\n",
    "\n",
    "y_predicted = model_log.predict(X_test)"
   ]
  },
  {
   "cell_type": "code",
   "execution_count": null,
   "metadata": {},
   "outputs": [
    {
     "name": "stderr",
     "output_type": "stream",
     "text": [
      "c:\\Users\\Danie\\AppData\\Local\\Programs\\Python\\Python311\\Lib\\site-packages\\xgboost\\core.py:158: UserWarning:\n",
      "\n",
      "[04:21:55] WARNING: C:\\buildkite-agent\\builds\\buildkite-windows-cpu-autoscaling-group-i-0c55ff5f71b100e98-1\\xgboost\\xgboost-ci-windows\\src\\learner.cc:740: \n",
      "Parameters: { \"use_label_encoder\" } are not used.\n",
      "\n",
      "\n"
     ]
    }
   ],
   "source": [
    "from xgboost import XGBClassifier\n",
    "# Crear el modelo con los mejores hiperparámetros encontrados\n",
    "model_xgb = XGBClassifier(\n",
    "    learning_rate=0.1,\n",
    "    max_depth=5,\n",
    "    n_estimators=200,\n",
    "    use_label_encoder=False,\n",
    "    eval_metric='logloss'\n",
    ")\n",
    "\n",
    "# Entrenar el modelo\n",
    "model_xgb.fit(X_train, y_train)\n",
    "\n",
    "# Predecir\n",
    "y_predicted = model_xgb.predict(X_test)"
   ]
  },
  {
   "cell_type": "code",
   "execution_count": 69,
   "metadata": {},
   "outputs": [
    {
     "data": {
      "text/plain": [
       "4277"
      ]
     },
     "execution_count": 69,
     "metadata": {},
     "output_type": "execute_result"
    }
   ],
   "source": [
    "len(X_test)"
   ]
  },
  {
   "cell_type": "code",
   "execution_count": 70,
   "metadata": {},
   "outputs": [],
   "source": [
    "df = pd.read_csv('sample_submission.csv')\n",
    "\n",
    "df['Transported'] = y_predicted.astype(bool)\n",
    "\n",
    "df.to_csv('sub10.csv', index=False)"
   ]
  },
  {
   "cell_type": "code",
   "execution_count": null,
   "metadata": {},
   "outputs": [],
   "source": []
  }
 ],
 "metadata": {
  "kernelspec": {
   "display_name": "Python 3",
   "language": "python",
   "name": "python3"
  },
  "language_info": {
   "codemirror_mode": {
    "name": "ipython",
    "version": 3
   },
   "file_extension": ".py",
   "mimetype": "text/x-python",
   "name": "python",
   "nbconvert_exporter": "python",
   "pygments_lexer": "ipython3",
   "version": "3.11.5"
  }
 },
 "nbformat": 4,
 "nbformat_minor": 2
}
